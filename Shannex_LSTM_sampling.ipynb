{
  "nbformat": 4,
  "nbformat_minor": 0,
  "metadata": {
    "colab": {
      "name": "Shannex_LSTM_sampling.ipynb",
      "provenance": [],
      "collapsed_sections": [],
      "toc_visible": true
    },
    "kernelspec": {
      "name": "python3",
      "display_name": "Python 3"
    },
    "language_info": {
      "name": "python"
    },
    "accelerator": "TPU"
  },
  "cells": [
    {
      "cell_type": "code",
      "metadata": {
        "colab": {
          "base_uri": "https://localhost:8080/"
        },
        "id": "t4AZQGik69yv",
        "outputId": "ca53236f-d4ad-4c21-f638-7d7374171f88"
      },
      "source": [
        "from google.colab import drive\n",
        "drive.mount('/content/drive')"
      ],
      "execution_count": null,
      "outputs": [
        {
          "output_type": "stream",
          "text": [
            "Mounted at /content/drive\n"
          ],
          "name": "stdout"
        }
      ]
    },
    {
      "cell_type": "code",
      "metadata": {
        "id": "5ti28-WGNNpz"
      },
      "source": [
        "# multi-class classification with Keras\n",
        "import pandas as pd\n",
        "from keras.wrappers.scikit_learn import KerasClassifier\n",
        "from keras.utils import np_utils\n",
        "from sklearn import preprocessing\n",
        "from sklearn.preprocessing import LabelEncoder\n",
        "from sklearn.pipeline import Pipeline\n"
      ],
      "execution_count": null,
      "outputs": []
    },
    {
      "cell_type": "code",
      "metadata": {
        "colab": {
          "base_uri": "https://localhost:8080/"
        },
        "id": "OxboEWUANV9B",
        "outputId": "85e2429c-0396-4e5f-a869-d5bbd27b6e23"
      },
      "source": [
        "# load dataset\n",
        "# train_df = pandas.read_csv(\"/content/drive/MyDrive/mary/For LSTM/Train_60.csv\", header= 0, dtype= \"object\")\n",
        "\n",
        "# test_df = pandas.read_csv(\"/content/drive/MyDrive/mary/For LSTM/Test_15.csv\", header= 0, dtype= \"object\")\n",
        "\n",
        "df = pd.read_csv(\"/content/drive/MyDrive/mary/For LSTM/final_lstm_data.csv\", header= 0, dtype= \"category\")\n",
        "# print(train_df)\n",
        "# print(test_df)\n",
        "print(df)"
      ],
      "execution_count": null,
      "outputs": [
        {
          "output_type": "stream",
          "text": [
            "      Checker  Gender DOW  ... Weight Change:Weight loss NewLoABins D(7)-NewLoABins\n",
            "0         145  Female   7  ...                        NO          0               0\n",
            "1         145  Female   1  ...                        NO          0               0\n",
            "2         145  Female   2  ...                        NO          0               0\n",
            "3         145  Female   3  ...                        NO          0               0\n",
            "4         145  Female   4  ...                        NO          0               0\n",
            "...       ...     ...  ..  ...                       ...        ...             ...\n",
            "71601    2804  Female   5  ...                       YES          0               0\n",
            "71602    2804  Female   6  ...                       YES          0               0\n",
            "71603    2804  Female   7  ...                       YES          0               0\n",
            "71604    2804  Female   1  ...                       YES          0               0\n",
            "71605    2804  Female   2  ...                       YES          0               0\n",
            "\n",
            "[71606 rows x 177 columns]\n"
          ],
          "name": "stdout"
        }
      ]
    },
    {
      "cell_type": "markdown",
      "metadata": {
        "id": "SjjB4u0hnNAt"
      },
      "source": [
        "To create D+7 vars"
      ]
    },
    {
      "cell_type": "code",
      "metadata": {
        "id": "cCD-1fbZnLEc"
      },
      "source": [
        "##machineLearningMastery\n",
        "from pandas import DataFrame\n",
        "from pandas import concat\n",
        "\n",
        "\n",
        "def series_to_supervised(data, n_in=1, n_out=1, dropnan=True):\n",
        "\t\"\"\"\n",
        "\tFrame a time series as a supervised learning dataset.\n",
        "\tArguments:\n",
        "\t\tdata: Sequence of observations as a list or NumPy array.\n",
        "\t\tn_in: Number of lag observations as input (X).\n",
        "\t\tn_out: Number of observations as output (y).\n",
        "\t\tdropnan: Boolean whether or not to drop rows with NaN values.\n",
        "\tReturns:\n",
        "\t\tPandas DataFrame of series framed for supervised learning.\n",
        "\t\"\"\"\n",
        "\tn_vars = 1 if type(data) is list else data.shape[1]\n",
        "\tdf = DataFrame(data)\n",
        "\tcols, names = list(), list()\n",
        "\t# input sequence (t-n, ... t-1)\n",
        "\tfor i in range(n_in, 0, -1):\n",
        "\t\tcols.append(df.shift(i))\n",
        "\t\tnames += [('var%d(t-%d)' % (j+1, i)) for j in range(n_vars)]\n",
        "\t# forecast sequence (t, t+1, ... t+n)\n",
        "\tfor i in range(0, n_out):\n",
        "\t\tcols.append(df.shift(-i))\n",
        "\t\tif i == 0:\n",
        "\t\t\tnames += [('var%d(t)' % (j+1)) for j in range(n_vars)]\n",
        "\t\telse:\n",
        "\t\t\tnames += [('var%d(t+%d)' % (j+1, i)) for j in range(n_vars)]\n",
        "\t# put it all together\n",
        "\tagg = concat(cols, axis=1)\n",
        "\tagg.columns = names\n",
        "\treturn agg"
      ],
      "execution_count": null,
      "outputs": []
    },
    {
      "cell_type": "code",
      "metadata": {
        "id": "X6rw8xp3nu2E"
      },
      "source": [
        "\n",
        "# # normalize features\n",
        "# scaler = MinMaxScaler(feature_range=(0, 1))\n",
        "# scaled = scaler.fit_transform(values)\n",
        "# # frame as supervised learning\n",
        "# reframed = series_to_supervised(scaled, 1, 1)\n",
        "# # drop columns we don't want to predict\n",
        "# # reframed.drop(reframed.columns[[9,10,11,12,13,14,15]], axis=1, inplace=True)\n",
        "# print(reframed.head())"
      ],
      "execution_count": null,
      "outputs": []
    },
    {
      "cell_type": "code",
      "metadata": {
        "colab": {
          "base_uri": "https://localhost:8080/",
          "height": 898
        },
        "id": "LDT8LEWz1w25",
        "outputId": "246929ec-2869-4969-89cc-e889b13f19f6"
      },
      "source": [
        "# X_train = train_df.iloc[:, :176]\n",
        "# X_train = X_train.drop(columns=['D(-6)-Checker'])\n",
        "# X_train.head(5)\n",
        "\n",
        "df_X = df.iloc[:, :176]\n",
        "df_X = df_X.drop(columns=['Checker'])\n",
        "df_X.head(10)\n"
      ],
      "execution_count": null,
      "outputs": [
        {
          "output_type": "execute_result",
          "data": {
            "text/html": [
              "<div>\n",
              "<style scoped>\n",
              "    .dataframe tbody tr th:only-of-type {\n",
              "        vertical-align: middle;\n",
              "    }\n",
              "\n",
              "    .dataframe tbody tr th {\n",
              "        vertical-align: top;\n",
              "    }\n",
              "\n",
              "    .dataframe thead th {\n",
              "        text-align: right;\n",
              "    }\n",
              "</style>\n",
              "<table border=\"1\" class=\"dataframe\">\n",
              "  <thead>\n",
              "    <tr style=\"text-align: right;\">\n",
              "      <th></th>\n",
              "      <th>Gender</th>\n",
              "      <th>DOW</th>\n",
              "      <th>DOY</th>\n",
              "      <th>Age at Assessment</th>\n",
              "      <th>Payment: Self pay ROC</th>\n",
              "      <th>Ability to Understand Others:Understanding verbal information content</th>\n",
              "      <th>Aboriginal Identity:Inuit</th>\n",
              "      <th>Aboriginal Identity:Metis</th>\n",
              "      <th>Activities Average Time</th>\n",
              "      <th>Activities Preferance: Crafts or arts</th>\n",
              "      <th>Activities Preferance: Gardening or plants</th>\n",
              "      <th>Activities Preferance: Helping others</th>\n",
              "      <th>Activities Preferance: Reading or writing</th>\n",
              "      <th>Activities Preferance: Spiritual or religious activities</th>\n",
              "      <th>Activities Preferance: Talking or conversing</th>\n",
              "      <th>Activities Preferance: Trips or shopping</th>\n",
              "      <th>Activities Preferance: Watching TV</th>\n",
              "      <th>ADL Function: Client believes capable of increased independence</th>\n",
              "      <th>ADL Function: Direct care staff believe resident is capable of increased independence</th>\n",
              "      <th>ADL Function: Resident able to do activity very slow</th>\n",
              "      <th>Advance Directives:Resuscitating</th>\n",
              "      <th>Alcohol Use</th>\n",
              "      <th>Appliances and Program: Any scheduled toileting plan</th>\n",
              "      <th>Appliances and Program: Pads or briefs used</th>\n",
              "      <th>Awerness: Easily distracted</th>\n",
              "      <th>Balance: Sitting</th>\n",
              "      <th>Balance: Standing</th>\n",
              "      <th>BMI</th>\n",
              "      <th>Bowel Elimation Pattern: Regular</th>\n",
              "      <th>Can Client Bear 75 Percent of Own Weight</th>\n",
              "      <th>Change in Behavioural Symptoms</th>\n",
              "      <th>Change in Cognitive Status</th>\n",
              "      <th>Change in Communication or Hearing</th>\n",
              "      <th>Change in Daily Routine: Currently involved activities</th>\n",
              "      <th>Change in Daily Routine: Extented activities</th>\n",
              "      <th>Change in Mood</th>\n",
              "      <th>Change in Urinary Continence</th>\n",
              "      <th>Cognitive Skills for Daily Decision Making</th>\n",
              "      <th>DD Status: Epilepsy</th>\n",
              "      <th>DD Status: Not applicable</th>\n",
              "      <th>...</th>\n",
              "      <th>Sadness: Persistant anger</th>\n",
              "      <th>Sadness: Repetitive Verbalization</th>\n",
              "      <th>Sadness: Unpleasant morning mood</th>\n",
              "      <th>Sadness: Worried facial expressions</th>\n",
              "      <th>Skin Problem: Rashes</th>\n",
              "      <th>Skin Treatment: Application of medications</th>\n",
              "      <th>Special Treatments: Alzheimers or dementia special care unit</th>\n",
              "      <th>Speech Clarity</th>\n",
              "      <th>Stability of Conditions: Unstable</th>\n",
              "      <th>Symptom Alterability: Physically abuse</th>\n",
              "      <th>Symptom Alterability: Resists care</th>\n",
              "      <th>Symptom Alterability: Socially inappropriate</th>\n",
              "      <th>Symptom Alterability: Verbally abusive</th>\n",
              "      <th>Symptom Alterability: Wandering</th>\n",
              "      <th>Symptom Frequency: Physically abuse</th>\n",
              "      <th>Symptom Frequency: Resists care</th>\n",
              "      <th>Symptom Frequency: Socially inappropriate</th>\n",
              "      <th>Symptom Frequency: Verbally abusive</th>\n",
              "      <th>Symptom Frequency: Wandering</th>\n",
              "      <th>Task Segmentation</th>\n",
              "      <th>Time Awake: AFTERNOON</th>\n",
              "      <th>Time Awake: EVENING</th>\n",
              "      <th>Time Awake: MORNING</th>\n",
              "      <th>Transfer Mode: Bed rails</th>\n",
              "      <th>Transfer Mode: Lifted Mechanically</th>\n",
              "      <th>Transfer Mode: Transfer Aid</th>\n",
              "      <th>Type of Ulcer: Pressure ulcer</th>\n",
              "      <th>Type of Ulcer: Stasis ulcer</th>\n",
              "      <th>Ulcers: Stage 2</th>\n",
              "      <th>Ulcers: Stage 3</th>\n",
              "      <th>Ulcers: Stage 4</th>\n",
              "      <th>Unsettled Rel: Does not adjust easily to change in routines</th>\n",
              "      <th>Unsettled Rel: Openly expresses conflict/anger with family/friends</th>\n",
              "      <th>Unsettled Rel: Unhappy with clients other than roommate</th>\n",
              "      <th>Vision</th>\n",
              "      <th>Visual Appliances</th>\n",
              "      <th>Weight Bearing</th>\n",
              "      <th>Weight Change:Weight gain</th>\n",
              "      <th>Weight Change:Weight loss</th>\n",
              "      <th>NewLoABins</th>\n",
              "    </tr>\n",
              "  </thead>\n",
              "  <tbody>\n",
              "    <tr>\n",
              "      <th>0</th>\n",
              "      <td>Female</td>\n",
              "      <td>7</td>\n",
              "      <td>89</td>\n",
              "      <td>81</td>\n",
              "      <td>NO</td>\n",
              "      <td>Usually</td>\n",
              "      <td>Dont Know</td>\n",
              "      <td>Dont Know</td>\n",
              "      <td>Little</td>\n",
              "      <td>YES</td>\n",
              "      <td>NO</td>\n",
              "      <td>YES</td>\n",
              "      <td>NO</td>\n",
              "      <td>YES</td>\n",
              "      <td>YES</td>\n",
              "      <td>NO</td>\n",
              "      <td>NO</td>\n",
              "      <td>NO</td>\n",
              "      <td>YES</td>\n",
              "      <td>NO</td>\n",
              "      <td>YES</td>\n",
              "      <td>NO</td>\n",
              "      <td>NO</td>\n",
              "      <td>NO</td>\n",
              "      <td>Present - Not recent</td>\n",
              "      <td>maintained position</td>\n",
              "      <td>maintained position</td>\n",
              "      <td>Dont Know</td>\n",
              "      <td>YES</td>\n",
              "      <td>YES</td>\n",
              "      <td>No change</td>\n",
              "      <td>No change</td>\n",
              "      <td>No change</td>\n",
              "      <td>No change</td>\n",
              "      <td>No change</td>\n",
              "      <td>No change</td>\n",
              "      <td>No change</td>\n",
              "      <td>Moderately impaired</td>\n",
              "      <td>NO</td>\n",
              "      <td>NO</td>\n",
              "      <td>...</td>\n",
              "      <td>exhibited daily</td>\n",
              "      <td>exhibited daily</td>\n",
              "      <td>not exhibited in last MONTH</td>\n",
              "      <td>not exhibited in last MONTH</td>\n",
              "      <td>NO</td>\n",
              "      <td>NO</td>\n",
              "      <td>NO</td>\n",
              "      <td>NO</td>\n",
              "      <td>YES</td>\n",
              "      <td>easily altered</td>\n",
              "      <td>easily altered</td>\n",
              "      <td>easily altered</td>\n",
              "      <td>not easily altered</td>\n",
              "      <td>not easily altered</td>\n",
              "      <td>not exhibed</td>\n",
              "      <td>not exhibed</td>\n",
              "      <td>not exhibed</td>\n",
              "      <td>occurred daily</td>\n",
              "      <td>occurred daily</td>\n",
              "      <td>YES</td>\n",
              "      <td>YES</td>\n",
              "      <td>YES</td>\n",
              "      <td>YES</td>\n",
              "      <td>NO</td>\n",
              "      <td>NO</td>\n",
              "      <td>NO</td>\n",
              "      <td>None</td>\n",
              "      <td>Dont Know</td>\n",
              "      <td>Dont Know</td>\n",
              "      <td>Dont Know</td>\n",
              "      <td>Dont Know</td>\n",
              "      <td>NO</td>\n",
              "      <td>NO</td>\n",
              "      <td>NO</td>\n",
              "      <td>Adequate</td>\n",
              "      <td>NO</td>\n",
              "      <td>NO</td>\n",
              "      <td>YES</td>\n",
              "      <td>NO</td>\n",
              "      <td>0</td>\n",
              "    </tr>\n",
              "    <tr>\n",
              "      <th>1</th>\n",
              "      <td>Female</td>\n",
              "      <td>1</td>\n",
              "      <td>90</td>\n",
              "      <td>81</td>\n",
              "      <td>NO</td>\n",
              "      <td>Usually</td>\n",
              "      <td>Dont Know</td>\n",
              "      <td>Dont Know</td>\n",
              "      <td>Little</td>\n",
              "      <td>YES</td>\n",
              "      <td>NO</td>\n",
              "      <td>YES</td>\n",
              "      <td>NO</td>\n",
              "      <td>YES</td>\n",
              "      <td>YES</td>\n",
              "      <td>NO</td>\n",
              "      <td>NO</td>\n",
              "      <td>NO</td>\n",
              "      <td>YES</td>\n",
              "      <td>NO</td>\n",
              "      <td>YES</td>\n",
              "      <td>NO</td>\n",
              "      <td>NO</td>\n",
              "      <td>NO</td>\n",
              "      <td>Present - Not recent</td>\n",
              "      <td>maintained position</td>\n",
              "      <td>maintained position</td>\n",
              "      <td>Dont Know</td>\n",
              "      <td>YES</td>\n",
              "      <td>YES</td>\n",
              "      <td>No change</td>\n",
              "      <td>No change</td>\n",
              "      <td>No change</td>\n",
              "      <td>No change</td>\n",
              "      <td>No change</td>\n",
              "      <td>No change</td>\n",
              "      <td>No change</td>\n",
              "      <td>Moderately impaired</td>\n",
              "      <td>NO</td>\n",
              "      <td>NO</td>\n",
              "      <td>...</td>\n",
              "      <td>exhibited daily</td>\n",
              "      <td>exhibited daily</td>\n",
              "      <td>not exhibited in last MONTH</td>\n",
              "      <td>not exhibited in last MONTH</td>\n",
              "      <td>NO</td>\n",
              "      <td>NO</td>\n",
              "      <td>NO</td>\n",
              "      <td>NO</td>\n",
              "      <td>YES</td>\n",
              "      <td>easily altered</td>\n",
              "      <td>easily altered</td>\n",
              "      <td>easily altered</td>\n",
              "      <td>not easily altered</td>\n",
              "      <td>not easily altered</td>\n",
              "      <td>not exhibed</td>\n",
              "      <td>not exhibed</td>\n",
              "      <td>not exhibed</td>\n",
              "      <td>occurred daily</td>\n",
              "      <td>occurred daily</td>\n",
              "      <td>YES</td>\n",
              "      <td>YES</td>\n",
              "      <td>YES</td>\n",
              "      <td>YES</td>\n",
              "      <td>NO</td>\n",
              "      <td>NO</td>\n",
              "      <td>NO</td>\n",
              "      <td>None</td>\n",
              "      <td>Dont Know</td>\n",
              "      <td>Dont Know</td>\n",
              "      <td>Dont Know</td>\n",
              "      <td>Dont Know</td>\n",
              "      <td>NO</td>\n",
              "      <td>NO</td>\n",
              "      <td>NO</td>\n",
              "      <td>Adequate</td>\n",
              "      <td>NO</td>\n",
              "      <td>NO</td>\n",
              "      <td>YES</td>\n",
              "      <td>NO</td>\n",
              "      <td>0</td>\n",
              "    </tr>\n",
              "    <tr>\n",
              "      <th>2</th>\n",
              "      <td>Female</td>\n",
              "      <td>2</td>\n",
              "      <td>91</td>\n",
              "      <td>81</td>\n",
              "      <td>NO</td>\n",
              "      <td>Usually</td>\n",
              "      <td>Dont Know</td>\n",
              "      <td>Dont Know</td>\n",
              "      <td>Little</td>\n",
              "      <td>YES</td>\n",
              "      <td>NO</td>\n",
              "      <td>YES</td>\n",
              "      <td>NO</td>\n",
              "      <td>YES</td>\n",
              "      <td>YES</td>\n",
              "      <td>NO</td>\n",
              "      <td>NO</td>\n",
              "      <td>NO</td>\n",
              "      <td>YES</td>\n",
              "      <td>NO</td>\n",
              "      <td>YES</td>\n",
              "      <td>NO</td>\n",
              "      <td>NO</td>\n",
              "      <td>NO</td>\n",
              "      <td>Present - Not recent</td>\n",
              "      <td>maintained position</td>\n",
              "      <td>maintained position</td>\n",
              "      <td>Dont Know</td>\n",
              "      <td>YES</td>\n",
              "      <td>YES</td>\n",
              "      <td>No change</td>\n",
              "      <td>No change</td>\n",
              "      <td>No change</td>\n",
              "      <td>No change</td>\n",
              "      <td>No change</td>\n",
              "      <td>No change</td>\n",
              "      <td>No change</td>\n",
              "      <td>Moderately impaired</td>\n",
              "      <td>NO</td>\n",
              "      <td>NO</td>\n",
              "      <td>...</td>\n",
              "      <td>exhibited daily</td>\n",
              "      <td>exhibited daily</td>\n",
              "      <td>not exhibited in last MONTH</td>\n",
              "      <td>not exhibited in last MONTH</td>\n",
              "      <td>NO</td>\n",
              "      <td>NO</td>\n",
              "      <td>NO</td>\n",
              "      <td>NO</td>\n",
              "      <td>YES</td>\n",
              "      <td>easily altered</td>\n",
              "      <td>easily altered</td>\n",
              "      <td>easily altered</td>\n",
              "      <td>not easily altered</td>\n",
              "      <td>not easily altered</td>\n",
              "      <td>not exhibed</td>\n",
              "      <td>not exhibed</td>\n",
              "      <td>not exhibed</td>\n",
              "      <td>occurred daily</td>\n",
              "      <td>occurred daily</td>\n",
              "      <td>YES</td>\n",
              "      <td>YES</td>\n",
              "      <td>YES</td>\n",
              "      <td>YES</td>\n",
              "      <td>NO</td>\n",
              "      <td>NO</td>\n",
              "      <td>NO</td>\n",
              "      <td>None</td>\n",
              "      <td>Dont Know</td>\n",
              "      <td>Dont Know</td>\n",
              "      <td>Dont Know</td>\n",
              "      <td>Dont Know</td>\n",
              "      <td>NO</td>\n",
              "      <td>NO</td>\n",
              "      <td>NO</td>\n",
              "      <td>Adequate</td>\n",
              "      <td>NO</td>\n",
              "      <td>NO</td>\n",
              "      <td>YES</td>\n",
              "      <td>NO</td>\n",
              "      <td>0</td>\n",
              "    </tr>\n",
              "    <tr>\n",
              "      <th>3</th>\n",
              "      <td>Female</td>\n",
              "      <td>3</td>\n",
              "      <td>92</td>\n",
              "      <td>81</td>\n",
              "      <td>NO</td>\n",
              "      <td>Usually</td>\n",
              "      <td>Dont Know</td>\n",
              "      <td>Dont Know</td>\n",
              "      <td>Little</td>\n",
              "      <td>YES</td>\n",
              "      <td>NO</td>\n",
              "      <td>YES</td>\n",
              "      <td>NO</td>\n",
              "      <td>YES</td>\n",
              "      <td>YES</td>\n",
              "      <td>NO</td>\n",
              "      <td>NO</td>\n",
              "      <td>NO</td>\n",
              "      <td>YES</td>\n",
              "      <td>NO</td>\n",
              "      <td>YES</td>\n",
              "      <td>NO</td>\n",
              "      <td>NO</td>\n",
              "      <td>NO</td>\n",
              "      <td>Present - Not recent</td>\n",
              "      <td>maintained position</td>\n",
              "      <td>maintained position</td>\n",
              "      <td>Dont Know</td>\n",
              "      <td>YES</td>\n",
              "      <td>YES</td>\n",
              "      <td>No change</td>\n",
              "      <td>No change</td>\n",
              "      <td>No change</td>\n",
              "      <td>No change</td>\n",
              "      <td>No change</td>\n",
              "      <td>No change</td>\n",
              "      <td>No change</td>\n",
              "      <td>Moderately impaired</td>\n",
              "      <td>NO</td>\n",
              "      <td>NO</td>\n",
              "      <td>...</td>\n",
              "      <td>exhibited daily</td>\n",
              "      <td>exhibited daily</td>\n",
              "      <td>not exhibited in last MONTH</td>\n",
              "      <td>not exhibited in last MONTH</td>\n",
              "      <td>NO</td>\n",
              "      <td>NO</td>\n",
              "      <td>NO</td>\n",
              "      <td>NO</td>\n",
              "      <td>YES</td>\n",
              "      <td>easily altered</td>\n",
              "      <td>easily altered</td>\n",
              "      <td>easily altered</td>\n",
              "      <td>not easily altered</td>\n",
              "      <td>not easily altered</td>\n",
              "      <td>not exhibed</td>\n",
              "      <td>not exhibed</td>\n",
              "      <td>not exhibed</td>\n",
              "      <td>occurred daily</td>\n",
              "      <td>occurred daily</td>\n",
              "      <td>YES</td>\n",
              "      <td>YES</td>\n",
              "      <td>YES</td>\n",
              "      <td>YES</td>\n",
              "      <td>NO</td>\n",
              "      <td>NO</td>\n",
              "      <td>NO</td>\n",
              "      <td>None</td>\n",
              "      <td>Dont Know</td>\n",
              "      <td>Dont Know</td>\n",
              "      <td>Dont Know</td>\n",
              "      <td>Dont Know</td>\n",
              "      <td>NO</td>\n",
              "      <td>NO</td>\n",
              "      <td>NO</td>\n",
              "      <td>Adequate</td>\n",
              "      <td>NO</td>\n",
              "      <td>NO</td>\n",
              "      <td>YES</td>\n",
              "      <td>NO</td>\n",
              "      <td>0</td>\n",
              "    </tr>\n",
              "    <tr>\n",
              "      <th>4</th>\n",
              "      <td>Female</td>\n",
              "      <td>4</td>\n",
              "      <td>93</td>\n",
              "      <td>81</td>\n",
              "      <td>NO</td>\n",
              "      <td>Usually</td>\n",
              "      <td>Dont Know</td>\n",
              "      <td>Dont Know</td>\n",
              "      <td>Little</td>\n",
              "      <td>YES</td>\n",
              "      <td>NO</td>\n",
              "      <td>YES</td>\n",
              "      <td>NO</td>\n",
              "      <td>YES</td>\n",
              "      <td>YES</td>\n",
              "      <td>NO</td>\n",
              "      <td>NO</td>\n",
              "      <td>NO</td>\n",
              "      <td>YES</td>\n",
              "      <td>NO</td>\n",
              "      <td>YES</td>\n",
              "      <td>NO</td>\n",
              "      <td>NO</td>\n",
              "      <td>NO</td>\n",
              "      <td>Present - Not recent</td>\n",
              "      <td>maintained position</td>\n",
              "      <td>maintained position</td>\n",
              "      <td>Dont Know</td>\n",
              "      <td>YES</td>\n",
              "      <td>YES</td>\n",
              "      <td>No change</td>\n",
              "      <td>No change</td>\n",
              "      <td>No change</td>\n",
              "      <td>No change</td>\n",
              "      <td>No change</td>\n",
              "      <td>No change</td>\n",
              "      <td>No change</td>\n",
              "      <td>Moderately impaired</td>\n",
              "      <td>NO</td>\n",
              "      <td>NO</td>\n",
              "      <td>...</td>\n",
              "      <td>exhibited daily</td>\n",
              "      <td>exhibited daily</td>\n",
              "      <td>not exhibited in last MONTH</td>\n",
              "      <td>not exhibited in last MONTH</td>\n",
              "      <td>NO</td>\n",
              "      <td>NO</td>\n",
              "      <td>NO</td>\n",
              "      <td>NO</td>\n",
              "      <td>YES</td>\n",
              "      <td>easily altered</td>\n",
              "      <td>easily altered</td>\n",
              "      <td>easily altered</td>\n",
              "      <td>not easily altered</td>\n",
              "      <td>not easily altered</td>\n",
              "      <td>not exhibed</td>\n",
              "      <td>not exhibed</td>\n",
              "      <td>not exhibed</td>\n",
              "      <td>occurred daily</td>\n",
              "      <td>occurred daily</td>\n",
              "      <td>YES</td>\n",
              "      <td>YES</td>\n",
              "      <td>YES</td>\n",
              "      <td>YES</td>\n",
              "      <td>NO</td>\n",
              "      <td>NO</td>\n",
              "      <td>NO</td>\n",
              "      <td>None</td>\n",
              "      <td>Dont Know</td>\n",
              "      <td>Dont Know</td>\n",
              "      <td>Dont Know</td>\n",
              "      <td>Dont Know</td>\n",
              "      <td>NO</td>\n",
              "      <td>NO</td>\n",
              "      <td>NO</td>\n",
              "      <td>Adequate</td>\n",
              "      <td>NO</td>\n",
              "      <td>NO</td>\n",
              "      <td>YES</td>\n",
              "      <td>NO</td>\n",
              "      <td>0</td>\n",
              "    </tr>\n",
              "    <tr>\n",
              "      <th>5</th>\n",
              "      <td>Female</td>\n",
              "      <td>5</td>\n",
              "      <td>94</td>\n",
              "      <td>81</td>\n",
              "      <td>NO</td>\n",
              "      <td>Usually</td>\n",
              "      <td>Dont Know</td>\n",
              "      <td>Dont Know</td>\n",
              "      <td>Little</td>\n",
              "      <td>YES</td>\n",
              "      <td>NO</td>\n",
              "      <td>YES</td>\n",
              "      <td>NO</td>\n",
              "      <td>YES</td>\n",
              "      <td>YES</td>\n",
              "      <td>NO</td>\n",
              "      <td>NO</td>\n",
              "      <td>NO</td>\n",
              "      <td>YES</td>\n",
              "      <td>NO</td>\n",
              "      <td>YES</td>\n",
              "      <td>NO</td>\n",
              "      <td>NO</td>\n",
              "      <td>NO</td>\n",
              "      <td>Present - Not recent</td>\n",
              "      <td>maintained position</td>\n",
              "      <td>maintained position</td>\n",
              "      <td>Dont Know</td>\n",
              "      <td>YES</td>\n",
              "      <td>YES</td>\n",
              "      <td>No change</td>\n",
              "      <td>No change</td>\n",
              "      <td>No change</td>\n",
              "      <td>No change</td>\n",
              "      <td>No change</td>\n",
              "      <td>No change</td>\n",
              "      <td>No change</td>\n",
              "      <td>Moderately impaired</td>\n",
              "      <td>NO</td>\n",
              "      <td>NO</td>\n",
              "      <td>...</td>\n",
              "      <td>exhibited daily</td>\n",
              "      <td>exhibited daily</td>\n",
              "      <td>not exhibited in last MONTH</td>\n",
              "      <td>not exhibited in last MONTH</td>\n",
              "      <td>NO</td>\n",
              "      <td>NO</td>\n",
              "      <td>NO</td>\n",
              "      <td>NO</td>\n",
              "      <td>YES</td>\n",
              "      <td>easily altered</td>\n",
              "      <td>easily altered</td>\n",
              "      <td>easily altered</td>\n",
              "      <td>not easily altered</td>\n",
              "      <td>not easily altered</td>\n",
              "      <td>not exhibed</td>\n",
              "      <td>not exhibed</td>\n",
              "      <td>not exhibed</td>\n",
              "      <td>occurred daily</td>\n",
              "      <td>occurred daily</td>\n",
              "      <td>YES</td>\n",
              "      <td>YES</td>\n",
              "      <td>YES</td>\n",
              "      <td>YES</td>\n",
              "      <td>NO</td>\n",
              "      <td>NO</td>\n",
              "      <td>NO</td>\n",
              "      <td>None</td>\n",
              "      <td>Dont Know</td>\n",
              "      <td>Dont Know</td>\n",
              "      <td>Dont Know</td>\n",
              "      <td>Dont Know</td>\n",
              "      <td>NO</td>\n",
              "      <td>NO</td>\n",
              "      <td>NO</td>\n",
              "      <td>Adequate</td>\n",
              "      <td>NO</td>\n",
              "      <td>NO</td>\n",
              "      <td>YES</td>\n",
              "      <td>NO</td>\n",
              "      <td>0</td>\n",
              "    </tr>\n",
              "    <tr>\n",
              "      <th>6</th>\n",
              "      <td>Female</td>\n",
              "      <td>6</td>\n",
              "      <td>95</td>\n",
              "      <td>81</td>\n",
              "      <td>NO</td>\n",
              "      <td>Usually</td>\n",
              "      <td>Dont Know</td>\n",
              "      <td>Dont Know</td>\n",
              "      <td>Little</td>\n",
              "      <td>YES</td>\n",
              "      <td>NO</td>\n",
              "      <td>YES</td>\n",
              "      <td>NO</td>\n",
              "      <td>YES</td>\n",
              "      <td>YES</td>\n",
              "      <td>NO</td>\n",
              "      <td>NO</td>\n",
              "      <td>NO</td>\n",
              "      <td>YES</td>\n",
              "      <td>NO</td>\n",
              "      <td>YES</td>\n",
              "      <td>NO</td>\n",
              "      <td>NO</td>\n",
              "      <td>NO</td>\n",
              "      <td>Present - Not recent</td>\n",
              "      <td>maintained position</td>\n",
              "      <td>maintained position</td>\n",
              "      <td>Dont Know</td>\n",
              "      <td>YES</td>\n",
              "      <td>YES</td>\n",
              "      <td>No change</td>\n",
              "      <td>No change</td>\n",
              "      <td>No change</td>\n",
              "      <td>No change</td>\n",
              "      <td>No change</td>\n",
              "      <td>No change</td>\n",
              "      <td>No change</td>\n",
              "      <td>Moderately impaired</td>\n",
              "      <td>NO</td>\n",
              "      <td>NO</td>\n",
              "      <td>...</td>\n",
              "      <td>exhibited daily</td>\n",
              "      <td>exhibited daily</td>\n",
              "      <td>not exhibited in last MONTH</td>\n",
              "      <td>not exhibited in last MONTH</td>\n",
              "      <td>NO</td>\n",
              "      <td>NO</td>\n",
              "      <td>NO</td>\n",
              "      <td>NO</td>\n",
              "      <td>YES</td>\n",
              "      <td>easily altered</td>\n",
              "      <td>easily altered</td>\n",
              "      <td>easily altered</td>\n",
              "      <td>not easily altered</td>\n",
              "      <td>not easily altered</td>\n",
              "      <td>not exhibed</td>\n",
              "      <td>not exhibed</td>\n",
              "      <td>not exhibed</td>\n",
              "      <td>occurred daily</td>\n",
              "      <td>occurred daily</td>\n",
              "      <td>YES</td>\n",
              "      <td>YES</td>\n",
              "      <td>YES</td>\n",
              "      <td>YES</td>\n",
              "      <td>NO</td>\n",
              "      <td>NO</td>\n",
              "      <td>NO</td>\n",
              "      <td>None</td>\n",
              "      <td>Dont Know</td>\n",
              "      <td>Dont Know</td>\n",
              "      <td>Dont Know</td>\n",
              "      <td>Dont Know</td>\n",
              "      <td>NO</td>\n",
              "      <td>NO</td>\n",
              "      <td>NO</td>\n",
              "      <td>Adequate</td>\n",
              "      <td>NO</td>\n",
              "      <td>NO</td>\n",
              "      <td>YES</td>\n",
              "      <td>NO</td>\n",
              "      <td>0</td>\n",
              "    </tr>\n",
              "    <tr>\n",
              "      <th>7</th>\n",
              "      <td>Female</td>\n",
              "      <td>7</td>\n",
              "      <td>96</td>\n",
              "      <td>81</td>\n",
              "      <td>NO</td>\n",
              "      <td>Usually</td>\n",
              "      <td>Dont Know</td>\n",
              "      <td>Dont Know</td>\n",
              "      <td>Little</td>\n",
              "      <td>YES</td>\n",
              "      <td>NO</td>\n",
              "      <td>YES</td>\n",
              "      <td>NO</td>\n",
              "      <td>YES</td>\n",
              "      <td>YES</td>\n",
              "      <td>NO</td>\n",
              "      <td>NO</td>\n",
              "      <td>NO</td>\n",
              "      <td>YES</td>\n",
              "      <td>NO</td>\n",
              "      <td>YES</td>\n",
              "      <td>NO</td>\n",
              "      <td>NO</td>\n",
              "      <td>NO</td>\n",
              "      <td>Present - Not recent</td>\n",
              "      <td>maintained position</td>\n",
              "      <td>maintained position</td>\n",
              "      <td>Dont Know</td>\n",
              "      <td>YES</td>\n",
              "      <td>YES</td>\n",
              "      <td>No change</td>\n",
              "      <td>No change</td>\n",
              "      <td>No change</td>\n",
              "      <td>No change</td>\n",
              "      <td>No change</td>\n",
              "      <td>No change</td>\n",
              "      <td>No change</td>\n",
              "      <td>Moderately impaired</td>\n",
              "      <td>NO</td>\n",
              "      <td>NO</td>\n",
              "      <td>...</td>\n",
              "      <td>exhibited daily</td>\n",
              "      <td>exhibited daily</td>\n",
              "      <td>not exhibited in last MONTH</td>\n",
              "      <td>not exhibited in last MONTH</td>\n",
              "      <td>NO</td>\n",
              "      <td>NO</td>\n",
              "      <td>NO</td>\n",
              "      <td>NO</td>\n",
              "      <td>YES</td>\n",
              "      <td>easily altered</td>\n",
              "      <td>easily altered</td>\n",
              "      <td>easily altered</td>\n",
              "      <td>not easily altered</td>\n",
              "      <td>not easily altered</td>\n",
              "      <td>not exhibed</td>\n",
              "      <td>not exhibed</td>\n",
              "      <td>not exhibed</td>\n",
              "      <td>occurred daily</td>\n",
              "      <td>occurred daily</td>\n",
              "      <td>YES</td>\n",
              "      <td>YES</td>\n",
              "      <td>YES</td>\n",
              "      <td>YES</td>\n",
              "      <td>NO</td>\n",
              "      <td>NO</td>\n",
              "      <td>NO</td>\n",
              "      <td>None</td>\n",
              "      <td>Dont Know</td>\n",
              "      <td>Dont Know</td>\n",
              "      <td>Dont Know</td>\n",
              "      <td>Dont Know</td>\n",
              "      <td>NO</td>\n",
              "      <td>NO</td>\n",
              "      <td>NO</td>\n",
              "      <td>Adequate</td>\n",
              "      <td>NO</td>\n",
              "      <td>NO</td>\n",
              "      <td>YES</td>\n",
              "      <td>NO</td>\n",
              "      <td>0</td>\n",
              "    </tr>\n",
              "    <tr>\n",
              "      <th>8</th>\n",
              "      <td>Female</td>\n",
              "      <td>1</td>\n",
              "      <td>97</td>\n",
              "      <td>81</td>\n",
              "      <td>NO</td>\n",
              "      <td>Usually</td>\n",
              "      <td>Dont Know</td>\n",
              "      <td>Dont Know</td>\n",
              "      <td>Little</td>\n",
              "      <td>YES</td>\n",
              "      <td>NO</td>\n",
              "      <td>YES</td>\n",
              "      <td>NO</td>\n",
              "      <td>YES</td>\n",
              "      <td>YES</td>\n",
              "      <td>NO</td>\n",
              "      <td>NO</td>\n",
              "      <td>NO</td>\n",
              "      <td>YES</td>\n",
              "      <td>NO</td>\n",
              "      <td>YES</td>\n",
              "      <td>NO</td>\n",
              "      <td>NO</td>\n",
              "      <td>NO</td>\n",
              "      <td>Present - Not recent</td>\n",
              "      <td>maintained position</td>\n",
              "      <td>maintained position</td>\n",
              "      <td>Dont Know</td>\n",
              "      <td>YES</td>\n",
              "      <td>YES</td>\n",
              "      <td>No change</td>\n",
              "      <td>No change</td>\n",
              "      <td>No change</td>\n",
              "      <td>No change</td>\n",
              "      <td>No change</td>\n",
              "      <td>No change</td>\n",
              "      <td>No change</td>\n",
              "      <td>Moderately impaired</td>\n",
              "      <td>NO</td>\n",
              "      <td>NO</td>\n",
              "      <td>...</td>\n",
              "      <td>exhibited daily</td>\n",
              "      <td>exhibited daily</td>\n",
              "      <td>not exhibited in last MONTH</td>\n",
              "      <td>not exhibited in last MONTH</td>\n",
              "      <td>NO</td>\n",
              "      <td>NO</td>\n",
              "      <td>NO</td>\n",
              "      <td>NO</td>\n",
              "      <td>YES</td>\n",
              "      <td>easily altered</td>\n",
              "      <td>easily altered</td>\n",
              "      <td>easily altered</td>\n",
              "      <td>not easily altered</td>\n",
              "      <td>not easily altered</td>\n",
              "      <td>not exhibed</td>\n",
              "      <td>not exhibed</td>\n",
              "      <td>not exhibed</td>\n",
              "      <td>occurred daily</td>\n",
              "      <td>occurred daily</td>\n",
              "      <td>YES</td>\n",
              "      <td>YES</td>\n",
              "      <td>YES</td>\n",
              "      <td>YES</td>\n",
              "      <td>NO</td>\n",
              "      <td>NO</td>\n",
              "      <td>NO</td>\n",
              "      <td>None</td>\n",
              "      <td>Dont Know</td>\n",
              "      <td>Dont Know</td>\n",
              "      <td>Dont Know</td>\n",
              "      <td>Dont Know</td>\n",
              "      <td>NO</td>\n",
              "      <td>NO</td>\n",
              "      <td>NO</td>\n",
              "      <td>Adequate</td>\n",
              "      <td>NO</td>\n",
              "      <td>NO</td>\n",
              "      <td>YES</td>\n",
              "      <td>NO</td>\n",
              "      <td>0</td>\n",
              "    </tr>\n",
              "    <tr>\n",
              "      <th>9</th>\n",
              "      <td>Female</td>\n",
              "      <td>2</td>\n",
              "      <td>98</td>\n",
              "      <td>81</td>\n",
              "      <td>NO</td>\n",
              "      <td>Usually</td>\n",
              "      <td>Dont Know</td>\n",
              "      <td>Dont Know</td>\n",
              "      <td>Little</td>\n",
              "      <td>YES</td>\n",
              "      <td>NO</td>\n",
              "      <td>YES</td>\n",
              "      <td>NO</td>\n",
              "      <td>YES</td>\n",
              "      <td>YES</td>\n",
              "      <td>NO</td>\n",
              "      <td>NO</td>\n",
              "      <td>NO</td>\n",
              "      <td>YES</td>\n",
              "      <td>NO</td>\n",
              "      <td>YES</td>\n",
              "      <td>NO</td>\n",
              "      <td>NO</td>\n",
              "      <td>NO</td>\n",
              "      <td>Present - Not recent</td>\n",
              "      <td>maintained position</td>\n",
              "      <td>maintained position</td>\n",
              "      <td>Dont Know</td>\n",
              "      <td>YES</td>\n",
              "      <td>YES</td>\n",
              "      <td>No change</td>\n",
              "      <td>No change</td>\n",
              "      <td>No change</td>\n",
              "      <td>No change</td>\n",
              "      <td>No change</td>\n",
              "      <td>No change</td>\n",
              "      <td>No change</td>\n",
              "      <td>Moderately impaired</td>\n",
              "      <td>NO</td>\n",
              "      <td>NO</td>\n",
              "      <td>...</td>\n",
              "      <td>exhibited daily</td>\n",
              "      <td>exhibited daily</td>\n",
              "      <td>not exhibited in last MONTH</td>\n",
              "      <td>not exhibited in last MONTH</td>\n",
              "      <td>NO</td>\n",
              "      <td>NO</td>\n",
              "      <td>NO</td>\n",
              "      <td>NO</td>\n",
              "      <td>YES</td>\n",
              "      <td>easily altered</td>\n",
              "      <td>easily altered</td>\n",
              "      <td>easily altered</td>\n",
              "      <td>not easily altered</td>\n",
              "      <td>not easily altered</td>\n",
              "      <td>not exhibed</td>\n",
              "      <td>not exhibed</td>\n",
              "      <td>not exhibed</td>\n",
              "      <td>occurred daily</td>\n",
              "      <td>occurred daily</td>\n",
              "      <td>YES</td>\n",
              "      <td>YES</td>\n",
              "      <td>YES</td>\n",
              "      <td>YES</td>\n",
              "      <td>NO</td>\n",
              "      <td>NO</td>\n",
              "      <td>NO</td>\n",
              "      <td>None</td>\n",
              "      <td>Dont Know</td>\n",
              "      <td>Dont Know</td>\n",
              "      <td>Dont Know</td>\n",
              "      <td>Dont Know</td>\n",
              "      <td>NO</td>\n",
              "      <td>NO</td>\n",
              "      <td>NO</td>\n",
              "      <td>Adequate</td>\n",
              "      <td>NO</td>\n",
              "      <td>NO</td>\n",
              "      <td>YES</td>\n",
              "      <td>NO</td>\n",
              "      <td>0</td>\n",
              "    </tr>\n",
              "  </tbody>\n",
              "</table>\n",
              "<p>10 rows × 175 columns</p>\n",
              "</div>"
            ],
            "text/plain": [
              "   Gender DOW  ... Weight Change:Weight loss NewLoABins\n",
              "0  Female   7  ...                        NO          0\n",
              "1  Female   1  ...                        NO          0\n",
              "2  Female   2  ...                        NO          0\n",
              "3  Female   3  ...                        NO          0\n",
              "4  Female   4  ...                        NO          0\n",
              "5  Female   5  ...                        NO          0\n",
              "6  Female   6  ...                        NO          0\n",
              "7  Female   7  ...                        NO          0\n",
              "8  Female   1  ...                        NO          0\n",
              "9  Female   2  ...                        NO          0\n",
              "\n",
              "[10 rows x 175 columns]"
            ]
          },
          "metadata": {
            "tags": []
          },
          "execution_count": 6
        }
      ]
    },
    {
      "cell_type": "code",
      "metadata": {
        "colab": {
          "base_uri": "https://localhost:8080/",
          "height": 206
        },
        "id": "kPfGm7udH73G",
        "outputId": "07a1d0b0-2b41-4c50-ba57-cabd3b71b1b2"
      },
      "source": [
        "# Y_train = train_df.iloc[:, -1:]\n",
        "# Y_train.head(5)\n",
        "df_Y = df.iloc[:, -1:]\n",
        "df_Y.head(5)\n"
      ],
      "execution_count": null,
      "outputs": [
        {
          "output_type": "execute_result",
          "data": {
            "text/html": [
              "<div>\n",
              "<style scoped>\n",
              "    .dataframe tbody tr th:only-of-type {\n",
              "        vertical-align: middle;\n",
              "    }\n",
              "\n",
              "    .dataframe tbody tr th {\n",
              "        vertical-align: top;\n",
              "    }\n",
              "\n",
              "    .dataframe thead th {\n",
              "        text-align: right;\n",
              "    }\n",
              "</style>\n",
              "<table border=\"1\" class=\"dataframe\">\n",
              "  <thead>\n",
              "    <tr style=\"text-align: right;\">\n",
              "      <th></th>\n",
              "      <th>D(7)-NewLoABins</th>\n",
              "    </tr>\n",
              "  </thead>\n",
              "  <tbody>\n",
              "    <tr>\n",
              "      <th>0</th>\n",
              "      <td>0</td>\n",
              "    </tr>\n",
              "    <tr>\n",
              "      <th>1</th>\n",
              "      <td>0</td>\n",
              "    </tr>\n",
              "    <tr>\n",
              "      <th>2</th>\n",
              "      <td>0</td>\n",
              "    </tr>\n",
              "    <tr>\n",
              "      <th>3</th>\n",
              "      <td>0</td>\n",
              "    </tr>\n",
              "    <tr>\n",
              "      <th>4</th>\n",
              "      <td>0</td>\n",
              "    </tr>\n",
              "  </tbody>\n",
              "</table>\n",
              "</div>"
            ],
            "text/plain": [
              "  D(7)-NewLoABins\n",
              "0               0\n",
              "1               0\n",
              "2               0\n",
              "3               0\n",
              "4               0"
            ]
          },
          "metadata": {
            "tags": []
          },
          "execution_count": 7
        }
      ]
    },
    {
      "cell_type": "code",
      "metadata": {
        "id": "qldLIbgsIFZu"
      },
      "source": [
        "# X_test = test_df.iloc[:, :176]\n",
        "# X_test = X_test.drop(columns=['D(-6)-Checker'])\n",
        "# X_test.head(5)"
      ],
      "execution_count": null,
      "outputs": []
    },
    {
      "cell_type": "code",
      "metadata": {
        "id": "F_kjbXUgIdQS"
      },
      "source": [
        "# Y_test = test_df.iloc[:, -1:]\n",
        "# Y_test.head(5)"
      ],
      "execution_count": null,
      "outputs": []
    },
    {
      "cell_type": "code",
      "metadata": {
        "id": "bgXph9Ru2jTI"
      },
      "source": [
        "convert_dict = {'DOW': int,\n",
        "                'DOY': int,\n",
        "                'Age at Assessment': int\n",
        "               }"
      ],
      "execution_count": null,
      "outputs": []
    },
    {
      "cell_type": "code",
      "metadata": {
        "colab": {
          "base_uri": "https://localhost:8080/"
        },
        "id": "waCUC7n23TcK",
        "outputId": "7ca2dbb1-44da-442c-bd3f-803319b9853c"
      },
      "source": [
        "# X_train = X_train.astype(convert_dict)\n",
        "# X_test = X_test.astype(convert_dict)\n",
        "# print(X_train.dtypes)\n",
        "# print(X_test.dtypes)\n",
        "\n",
        "df_X = df_X.astype(convert_dict)\n",
        "print(df_X.dtypes)"
      ],
      "execution_count": null,
      "outputs": [
        {
          "output_type": "stream",
          "text": [
            "Gender                       category\n",
            "DOW                             int64\n",
            "DOY                             int64\n",
            "Age at Assessment               int64\n",
            "Payment: Self pay ROC        category\n",
            "                               ...   \n",
            "Visual Appliances            category\n",
            "Weight Bearing               category\n",
            "Weight Change:Weight gain    category\n",
            "Weight Change:Weight loss    category\n",
            "NewLoABins                   category\n",
            "Length: 175, dtype: object\n"
          ],
          "name": "stdout"
        }
      ]
    },
    {
      "cell_type": "markdown",
      "metadata": {
        "id": "gslPiRLwswUV"
      },
      "source": [
        "##Label Encoding and One-Hot Encoding"
      ]
    },
    {
      "cell_type": "code",
      "metadata": {
        "id": "3o2usShO6WHq"
      },
      "source": [
        "# import labelencoder\n",
        "import numpy as np\n",
        "from sklearn.preprocessing import LabelEncoder# instantiate labelencoder object\n",
        "from sklearn.preprocessing import OneHotEncoder\n",
        "le = LabelEncoder()\n",
        "oe_labels = OneHotEncoder(sparse=False)"
      ],
      "execution_count": null,
      "outputs": []
    },
    {
      "cell_type": "markdown",
      "metadata": {
        "id": "qBnTiADe8X01"
      },
      "source": [
        "###Lebel Encoding"
      ]
    },
    {
      "cell_type": "code",
      "metadata": {
        "colab": {
          "base_uri": "https://localhost:8080/",
          "height": 394
        },
        "id": "Zf6aKtAIOlQk",
        "outputId": "7f0d0902-b614-4b36-e1a4-b341de63cbc1"
      },
      "source": [
        "# X_train = X_train.apply(le.fit_transform)\n",
        "\n",
        "# X_train.head(5)\n",
        "\n",
        "df_X_le = df_X.apply(le.fit_transform)\n",
        "df_X_le.head(5)"
      ],
      "execution_count": null,
      "outputs": [
        {
          "output_type": "execute_result",
          "data": {
            "text/html": [
              "<div>\n",
              "<style scoped>\n",
              "    .dataframe tbody tr th:only-of-type {\n",
              "        vertical-align: middle;\n",
              "    }\n",
              "\n",
              "    .dataframe tbody tr th {\n",
              "        vertical-align: top;\n",
              "    }\n",
              "\n",
              "    .dataframe thead th {\n",
              "        text-align: right;\n",
              "    }\n",
              "</style>\n",
              "<table border=\"1\" class=\"dataframe\">\n",
              "  <thead>\n",
              "    <tr style=\"text-align: right;\">\n",
              "      <th></th>\n",
              "      <th>Gender</th>\n",
              "      <th>DOW</th>\n",
              "      <th>DOY</th>\n",
              "      <th>Age at Assessment</th>\n",
              "      <th>Payment: Self pay ROC</th>\n",
              "      <th>Ability to Understand Others:Understanding verbal information content</th>\n",
              "      <th>Aboriginal Identity:Inuit</th>\n",
              "      <th>Aboriginal Identity:Metis</th>\n",
              "      <th>Activities Average Time</th>\n",
              "      <th>Activities Preferance: Crafts or arts</th>\n",
              "      <th>Activities Preferance: Gardening or plants</th>\n",
              "      <th>Activities Preferance: Helping others</th>\n",
              "      <th>Activities Preferance: Reading or writing</th>\n",
              "      <th>Activities Preferance: Spiritual or religious activities</th>\n",
              "      <th>Activities Preferance: Talking or conversing</th>\n",
              "      <th>Activities Preferance: Trips or shopping</th>\n",
              "      <th>Activities Preferance: Watching TV</th>\n",
              "      <th>ADL Function: Client believes capable of increased independence</th>\n",
              "      <th>ADL Function: Direct care staff believe resident is capable of increased independence</th>\n",
              "      <th>ADL Function: Resident able to do activity very slow</th>\n",
              "      <th>Advance Directives:Resuscitating</th>\n",
              "      <th>Alcohol Use</th>\n",
              "      <th>Appliances and Program: Any scheduled toileting plan</th>\n",
              "      <th>Appliances and Program: Pads or briefs used</th>\n",
              "      <th>Awerness: Easily distracted</th>\n",
              "      <th>Balance: Sitting</th>\n",
              "      <th>Balance: Standing</th>\n",
              "      <th>BMI</th>\n",
              "      <th>Bowel Elimation Pattern: Regular</th>\n",
              "      <th>Can Client Bear 75 Percent of Own Weight</th>\n",
              "      <th>Change in Behavioural Symptoms</th>\n",
              "      <th>Change in Cognitive Status</th>\n",
              "      <th>Change in Communication or Hearing</th>\n",
              "      <th>Change in Daily Routine: Currently involved activities</th>\n",
              "      <th>Change in Daily Routine: Extented activities</th>\n",
              "      <th>Change in Mood</th>\n",
              "      <th>Change in Urinary Continence</th>\n",
              "      <th>Cognitive Skills for Daily Decision Making</th>\n",
              "      <th>DD Status: Epilepsy</th>\n",
              "      <th>DD Status: Not applicable</th>\n",
              "      <th>...</th>\n",
              "      <th>Sadness: Persistant anger</th>\n",
              "      <th>Sadness: Repetitive Verbalization</th>\n",
              "      <th>Sadness: Unpleasant morning mood</th>\n",
              "      <th>Sadness: Worried facial expressions</th>\n",
              "      <th>Skin Problem: Rashes</th>\n",
              "      <th>Skin Treatment: Application of medications</th>\n",
              "      <th>Special Treatments: Alzheimers or dementia special care unit</th>\n",
              "      <th>Speech Clarity</th>\n",
              "      <th>Stability of Conditions: Unstable</th>\n",
              "      <th>Symptom Alterability: Physically abuse</th>\n",
              "      <th>Symptom Alterability: Resists care</th>\n",
              "      <th>Symptom Alterability: Socially inappropriate</th>\n",
              "      <th>Symptom Alterability: Verbally abusive</th>\n",
              "      <th>Symptom Alterability: Wandering</th>\n",
              "      <th>Symptom Frequency: Physically abuse</th>\n",
              "      <th>Symptom Frequency: Resists care</th>\n",
              "      <th>Symptom Frequency: Socially inappropriate</th>\n",
              "      <th>Symptom Frequency: Verbally abusive</th>\n",
              "      <th>Symptom Frequency: Wandering</th>\n",
              "      <th>Task Segmentation</th>\n",
              "      <th>Time Awake: AFTERNOON</th>\n",
              "      <th>Time Awake: EVENING</th>\n",
              "      <th>Time Awake: MORNING</th>\n",
              "      <th>Transfer Mode: Bed rails</th>\n",
              "      <th>Transfer Mode: Lifted Mechanically</th>\n",
              "      <th>Transfer Mode: Transfer Aid</th>\n",
              "      <th>Type of Ulcer: Pressure ulcer</th>\n",
              "      <th>Type of Ulcer: Stasis ulcer</th>\n",
              "      <th>Ulcers: Stage 2</th>\n",
              "      <th>Ulcers: Stage 3</th>\n",
              "      <th>Ulcers: Stage 4</th>\n",
              "      <th>Unsettled Rel: Does not adjust easily to change in routines</th>\n",
              "      <th>Unsettled Rel: Openly expresses conflict/anger with family/friends</th>\n",
              "      <th>Unsettled Rel: Unhappy with clients other than roommate</th>\n",
              "      <th>Vision</th>\n",
              "      <th>Visual Appliances</th>\n",
              "      <th>Weight Bearing</th>\n",
              "      <th>Weight Change:Weight gain</th>\n",
              "      <th>Weight Change:Weight loss</th>\n",
              "      <th>NewLoABins</th>\n",
              "    </tr>\n",
              "  </thead>\n",
              "  <tbody>\n",
              "    <tr>\n",
              "      <th>0</th>\n",
              "      <td>0</td>\n",
              "      <td>6</td>\n",
              "      <td>88</td>\n",
              "      <td>33</td>\n",
              "      <td>0</td>\n",
              "      <td>3</td>\n",
              "      <td>0</td>\n",
              "      <td>0</td>\n",
              "      <td>1</td>\n",
              "      <td>2</td>\n",
              "      <td>1</td>\n",
              "      <td>2</td>\n",
              "      <td>1</td>\n",
              "      <td>2</td>\n",
              "      <td>1</td>\n",
              "      <td>1</td>\n",
              "      <td>1</td>\n",
              "      <td>0</td>\n",
              "      <td>1</td>\n",
              "      <td>0</td>\n",
              "      <td>2</td>\n",
              "      <td>1</td>\n",
              "      <td>0</td>\n",
              "      <td>0</td>\n",
              "      <td>2</td>\n",
              "      <td>4</td>\n",
              "      <td>4</td>\n",
              "      <td>0</td>\n",
              "      <td>2</td>\n",
              "      <td>2</td>\n",
              "      <td>3</td>\n",
              "      <td>3</td>\n",
              "      <td>2</td>\n",
              "      <td>2</td>\n",
              "      <td>2</td>\n",
              "      <td>3</td>\n",
              "      <td>2</td>\n",
              "      <td>1</td>\n",
              "      <td>1</td>\n",
              "      <td>1</td>\n",
              "      <td>...</td>\n",
              "      <td>1</td>\n",
              "      <td>1</td>\n",
              "      <td>3</td>\n",
              "      <td>3</td>\n",
              "      <td>0</td>\n",
              "      <td>0</td>\n",
              "      <td>0</td>\n",
              "      <td>1</td>\n",
              "      <td>1</td>\n",
              "      <td>1</td>\n",
              "      <td>1</td>\n",
              "      <td>1</td>\n",
              "      <td>2</td>\n",
              "      <td>2</td>\n",
              "      <td>1</td>\n",
              "      <td>1</td>\n",
              "      <td>1</td>\n",
              "      <td>4</td>\n",
              "      <td>4</td>\n",
              "      <td>2</td>\n",
              "      <td>1</td>\n",
              "      <td>1</td>\n",
              "      <td>1</td>\n",
              "      <td>0</td>\n",
              "      <td>0</td>\n",
              "      <td>0</td>\n",
              "      <td>1</td>\n",
              "      <td>0</td>\n",
              "      <td>0</td>\n",
              "      <td>0</td>\n",
              "      <td>0</td>\n",
              "      <td>1</td>\n",
              "      <td>1</td>\n",
              "      <td>1</td>\n",
              "      <td>0</td>\n",
              "      <td>0</td>\n",
              "      <td>1</td>\n",
              "      <td>2</td>\n",
              "      <td>1</td>\n",
              "      <td>0</td>\n",
              "    </tr>\n",
              "    <tr>\n",
              "      <th>1</th>\n",
              "      <td>0</td>\n",
              "      <td>0</td>\n",
              "      <td>89</td>\n",
              "      <td>33</td>\n",
              "      <td>0</td>\n",
              "      <td>3</td>\n",
              "      <td>0</td>\n",
              "      <td>0</td>\n",
              "      <td>1</td>\n",
              "      <td>2</td>\n",
              "      <td>1</td>\n",
              "      <td>2</td>\n",
              "      <td>1</td>\n",
              "      <td>2</td>\n",
              "      <td>1</td>\n",
              "      <td>1</td>\n",
              "      <td>1</td>\n",
              "      <td>0</td>\n",
              "      <td>1</td>\n",
              "      <td>0</td>\n",
              "      <td>2</td>\n",
              "      <td>1</td>\n",
              "      <td>0</td>\n",
              "      <td>0</td>\n",
              "      <td>2</td>\n",
              "      <td>4</td>\n",
              "      <td>4</td>\n",
              "      <td>0</td>\n",
              "      <td>2</td>\n",
              "      <td>2</td>\n",
              "      <td>3</td>\n",
              "      <td>3</td>\n",
              "      <td>2</td>\n",
              "      <td>2</td>\n",
              "      <td>2</td>\n",
              "      <td>3</td>\n",
              "      <td>2</td>\n",
              "      <td>1</td>\n",
              "      <td>1</td>\n",
              "      <td>1</td>\n",
              "      <td>...</td>\n",
              "      <td>1</td>\n",
              "      <td>1</td>\n",
              "      <td>3</td>\n",
              "      <td>3</td>\n",
              "      <td>0</td>\n",
              "      <td>0</td>\n",
              "      <td>0</td>\n",
              "      <td>1</td>\n",
              "      <td>1</td>\n",
              "      <td>1</td>\n",
              "      <td>1</td>\n",
              "      <td>1</td>\n",
              "      <td>2</td>\n",
              "      <td>2</td>\n",
              "      <td>1</td>\n",
              "      <td>1</td>\n",
              "      <td>1</td>\n",
              "      <td>4</td>\n",
              "      <td>4</td>\n",
              "      <td>2</td>\n",
              "      <td>1</td>\n",
              "      <td>1</td>\n",
              "      <td>1</td>\n",
              "      <td>0</td>\n",
              "      <td>0</td>\n",
              "      <td>0</td>\n",
              "      <td>1</td>\n",
              "      <td>0</td>\n",
              "      <td>0</td>\n",
              "      <td>0</td>\n",
              "      <td>0</td>\n",
              "      <td>1</td>\n",
              "      <td>1</td>\n",
              "      <td>1</td>\n",
              "      <td>0</td>\n",
              "      <td>0</td>\n",
              "      <td>1</td>\n",
              "      <td>2</td>\n",
              "      <td>1</td>\n",
              "      <td>0</td>\n",
              "    </tr>\n",
              "    <tr>\n",
              "      <th>2</th>\n",
              "      <td>0</td>\n",
              "      <td>1</td>\n",
              "      <td>90</td>\n",
              "      <td>33</td>\n",
              "      <td>0</td>\n",
              "      <td>3</td>\n",
              "      <td>0</td>\n",
              "      <td>0</td>\n",
              "      <td>1</td>\n",
              "      <td>2</td>\n",
              "      <td>1</td>\n",
              "      <td>2</td>\n",
              "      <td>1</td>\n",
              "      <td>2</td>\n",
              "      <td>1</td>\n",
              "      <td>1</td>\n",
              "      <td>1</td>\n",
              "      <td>0</td>\n",
              "      <td>1</td>\n",
              "      <td>0</td>\n",
              "      <td>2</td>\n",
              "      <td>1</td>\n",
              "      <td>0</td>\n",
              "      <td>0</td>\n",
              "      <td>2</td>\n",
              "      <td>4</td>\n",
              "      <td>4</td>\n",
              "      <td>0</td>\n",
              "      <td>2</td>\n",
              "      <td>2</td>\n",
              "      <td>3</td>\n",
              "      <td>3</td>\n",
              "      <td>2</td>\n",
              "      <td>2</td>\n",
              "      <td>2</td>\n",
              "      <td>3</td>\n",
              "      <td>2</td>\n",
              "      <td>1</td>\n",
              "      <td>1</td>\n",
              "      <td>1</td>\n",
              "      <td>...</td>\n",
              "      <td>1</td>\n",
              "      <td>1</td>\n",
              "      <td>3</td>\n",
              "      <td>3</td>\n",
              "      <td>0</td>\n",
              "      <td>0</td>\n",
              "      <td>0</td>\n",
              "      <td>1</td>\n",
              "      <td>1</td>\n",
              "      <td>1</td>\n",
              "      <td>1</td>\n",
              "      <td>1</td>\n",
              "      <td>2</td>\n",
              "      <td>2</td>\n",
              "      <td>1</td>\n",
              "      <td>1</td>\n",
              "      <td>1</td>\n",
              "      <td>4</td>\n",
              "      <td>4</td>\n",
              "      <td>2</td>\n",
              "      <td>1</td>\n",
              "      <td>1</td>\n",
              "      <td>1</td>\n",
              "      <td>0</td>\n",
              "      <td>0</td>\n",
              "      <td>0</td>\n",
              "      <td>1</td>\n",
              "      <td>0</td>\n",
              "      <td>0</td>\n",
              "      <td>0</td>\n",
              "      <td>0</td>\n",
              "      <td>1</td>\n",
              "      <td>1</td>\n",
              "      <td>1</td>\n",
              "      <td>0</td>\n",
              "      <td>0</td>\n",
              "      <td>1</td>\n",
              "      <td>2</td>\n",
              "      <td>1</td>\n",
              "      <td>0</td>\n",
              "    </tr>\n",
              "    <tr>\n",
              "      <th>3</th>\n",
              "      <td>0</td>\n",
              "      <td>2</td>\n",
              "      <td>91</td>\n",
              "      <td>33</td>\n",
              "      <td>0</td>\n",
              "      <td>3</td>\n",
              "      <td>0</td>\n",
              "      <td>0</td>\n",
              "      <td>1</td>\n",
              "      <td>2</td>\n",
              "      <td>1</td>\n",
              "      <td>2</td>\n",
              "      <td>1</td>\n",
              "      <td>2</td>\n",
              "      <td>1</td>\n",
              "      <td>1</td>\n",
              "      <td>1</td>\n",
              "      <td>0</td>\n",
              "      <td>1</td>\n",
              "      <td>0</td>\n",
              "      <td>2</td>\n",
              "      <td>1</td>\n",
              "      <td>0</td>\n",
              "      <td>0</td>\n",
              "      <td>2</td>\n",
              "      <td>4</td>\n",
              "      <td>4</td>\n",
              "      <td>0</td>\n",
              "      <td>2</td>\n",
              "      <td>2</td>\n",
              "      <td>3</td>\n",
              "      <td>3</td>\n",
              "      <td>2</td>\n",
              "      <td>2</td>\n",
              "      <td>2</td>\n",
              "      <td>3</td>\n",
              "      <td>2</td>\n",
              "      <td>1</td>\n",
              "      <td>1</td>\n",
              "      <td>1</td>\n",
              "      <td>...</td>\n",
              "      <td>1</td>\n",
              "      <td>1</td>\n",
              "      <td>3</td>\n",
              "      <td>3</td>\n",
              "      <td>0</td>\n",
              "      <td>0</td>\n",
              "      <td>0</td>\n",
              "      <td>1</td>\n",
              "      <td>1</td>\n",
              "      <td>1</td>\n",
              "      <td>1</td>\n",
              "      <td>1</td>\n",
              "      <td>2</td>\n",
              "      <td>2</td>\n",
              "      <td>1</td>\n",
              "      <td>1</td>\n",
              "      <td>1</td>\n",
              "      <td>4</td>\n",
              "      <td>4</td>\n",
              "      <td>2</td>\n",
              "      <td>1</td>\n",
              "      <td>1</td>\n",
              "      <td>1</td>\n",
              "      <td>0</td>\n",
              "      <td>0</td>\n",
              "      <td>0</td>\n",
              "      <td>1</td>\n",
              "      <td>0</td>\n",
              "      <td>0</td>\n",
              "      <td>0</td>\n",
              "      <td>0</td>\n",
              "      <td>1</td>\n",
              "      <td>1</td>\n",
              "      <td>1</td>\n",
              "      <td>0</td>\n",
              "      <td>0</td>\n",
              "      <td>1</td>\n",
              "      <td>2</td>\n",
              "      <td>1</td>\n",
              "      <td>0</td>\n",
              "    </tr>\n",
              "    <tr>\n",
              "      <th>4</th>\n",
              "      <td>0</td>\n",
              "      <td>3</td>\n",
              "      <td>92</td>\n",
              "      <td>33</td>\n",
              "      <td>0</td>\n",
              "      <td>3</td>\n",
              "      <td>0</td>\n",
              "      <td>0</td>\n",
              "      <td>1</td>\n",
              "      <td>2</td>\n",
              "      <td>1</td>\n",
              "      <td>2</td>\n",
              "      <td>1</td>\n",
              "      <td>2</td>\n",
              "      <td>1</td>\n",
              "      <td>1</td>\n",
              "      <td>1</td>\n",
              "      <td>0</td>\n",
              "      <td>1</td>\n",
              "      <td>0</td>\n",
              "      <td>2</td>\n",
              "      <td>1</td>\n",
              "      <td>0</td>\n",
              "      <td>0</td>\n",
              "      <td>2</td>\n",
              "      <td>4</td>\n",
              "      <td>4</td>\n",
              "      <td>0</td>\n",
              "      <td>2</td>\n",
              "      <td>2</td>\n",
              "      <td>3</td>\n",
              "      <td>3</td>\n",
              "      <td>2</td>\n",
              "      <td>2</td>\n",
              "      <td>2</td>\n",
              "      <td>3</td>\n",
              "      <td>2</td>\n",
              "      <td>1</td>\n",
              "      <td>1</td>\n",
              "      <td>1</td>\n",
              "      <td>...</td>\n",
              "      <td>1</td>\n",
              "      <td>1</td>\n",
              "      <td>3</td>\n",
              "      <td>3</td>\n",
              "      <td>0</td>\n",
              "      <td>0</td>\n",
              "      <td>0</td>\n",
              "      <td>1</td>\n",
              "      <td>1</td>\n",
              "      <td>1</td>\n",
              "      <td>1</td>\n",
              "      <td>1</td>\n",
              "      <td>2</td>\n",
              "      <td>2</td>\n",
              "      <td>1</td>\n",
              "      <td>1</td>\n",
              "      <td>1</td>\n",
              "      <td>4</td>\n",
              "      <td>4</td>\n",
              "      <td>2</td>\n",
              "      <td>1</td>\n",
              "      <td>1</td>\n",
              "      <td>1</td>\n",
              "      <td>0</td>\n",
              "      <td>0</td>\n",
              "      <td>0</td>\n",
              "      <td>1</td>\n",
              "      <td>0</td>\n",
              "      <td>0</td>\n",
              "      <td>0</td>\n",
              "      <td>0</td>\n",
              "      <td>1</td>\n",
              "      <td>1</td>\n",
              "      <td>1</td>\n",
              "      <td>0</td>\n",
              "      <td>0</td>\n",
              "      <td>1</td>\n",
              "      <td>2</td>\n",
              "      <td>1</td>\n",
              "      <td>0</td>\n",
              "    </tr>\n",
              "  </tbody>\n",
              "</table>\n",
              "<p>5 rows × 175 columns</p>\n",
              "</div>"
            ],
            "text/plain": [
              "   Gender  DOW  ...  Weight Change:Weight loss  NewLoABins\n",
              "0       0    6  ...                          1           0\n",
              "1       0    0  ...                          1           0\n",
              "2       0    1  ...                          1           0\n",
              "3       0    2  ...                          1           0\n",
              "4       0    3  ...                          1           0\n",
              "\n",
              "[5 rows x 175 columns]"
            ]
          },
          "metadata": {
            "tags": []
          },
          "execution_count": 13
        }
      ]
    },
    {
      "cell_type": "code",
      "metadata": {
        "colab": {
          "base_uri": "https://localhost:8080/"
        },
        "id": "0GM_20lTJysv",
        "outputId": "0dc443ed-257e-46f0-b0fe-8f1682dca40d"
      },
      "source": [
        "# Y_train = Y_train.apply(le.fit_transform)\n",
        "# Y_train.head(5)\n",
        "df_Y_le = df_Y.apply(le.fit_transform)\n",
        "print(df_Y_le)"
      ],
      "execution_count": null,
      "outputs": [
        {
          "output_type": "stream",
          "text": [
            "       D(7)-NewLoABins\n",
            "0                    0\n",
            "1                    0\n",
            "2                    0\n",
            "3                    0\n",
            "4                    0\n",
            "...                ...\n",
            "71601                0\n",
            "71602                0\n",
            "71603                0\n",
            "71604                0\n",
            "71605                0\n",
            "\n",
            "[71606 rows x 1 columns]\n"
          ],
          "name": "stdout"
        }
      ]
    },
    {
      "cell_type": "markdown",
      "metadata": {
        "id": "pBfdWK2o8eQI"
      },
      "source": [
        "##Creating 7 days data"
      ]
    },
    {
      "cell_type": "code",
      "metadata": {
        "id": "a2rDiYf-IHj5",
        "colab": {
          "base_uri": "https://localhost:8080/"
        },
        "outputId": "741ee182-7451-4452-a12f-f5823d7c43d7"
      },
      "source": [
        "# X_train = np.array(columnTransformer.fit_transform(X_train), dtype = np.str)\n",
        "\n",
        "# print(X_train)\n",
        "df_X_seven = series_to_supervised(df_X_le, 1, 6 )\n",
        "df_X_seven = df_X_seven.fillna(0)\n",
        "print(df_X_seven)"
      ],
      "execution_count": null,
      "outputs": [
        {
          "output_type": "stream",
          "text": [
            "       var1(t-1)  var2(t-1)  var3(t-1)  ...  var173(t+5)  var174(t+5)  var175(t+5)\n",
            "0            0.0        0.0        0.0  ...          2.0          1.0          0.0\n",
            "1            0.0        6.0       88.0  ...          2.0          1.0          0.0\n",
            "2            0.0        0.0       89.0  ...          2.0          1.0          0.0\n",
            "3            0.0        1.0       90.0  ...          2.0          1.0          0.0\n",
            "4            0.0        2.0       91.0  ...          2.0          1.0          0.0\n",
            "...          ...        ...        ...  ...          ...          ...          ...\n",
            "71601        0.0        3.0      240.0  ...          0.0          0.0          0.0\n",
            "71602        0.0        4.0      241.0  ...          0.0          0.0          0.0\n",
            "71603        0.0        5.0      242.0  ...          0.0          0.0          0.0\n",
            "71604        0.0        6.0      243.0  ...          0.0          0.0          0.0\n",
            "71605        0.0        0.0      244.0  ...          0.0          0.0          0.0\n",
            "\n",
            "[71606 rows x 1225 columns]\n"
          ],
          "name": "stdout"
        }
      ]
    },
    {
      "cell_type": "markdown",
      "metadata": {
        "id": "uxGyJP088msr"
      },
      "source": [
        "###One-Hot Encoding"
      ]
    },
    {
      "cell_type": "code",
      "metadata": {
        "id": "BXY1ftYFYMpH",
        "colab": {
          "base_uri": "https://localhost:8080/"
        },
        "outputId": "9ed68d56-362d-44fb-af11-f5972c21c30b"
      },
      "source": [
        "# X_tr = X_train.values\n",
        "# X_tr = X_tr.astype(str)\n",
        "# X_train = oe_labels.fit_transform(X_train)\n",
        "\n",
        "df_X_oe = oe_labels.fit_transform(df_X_seven)\n",
        "print(df_X_oe)"
      ],
      "execution_count": null,
      "outputs": [
        {
          "output_type": "stream",
          "text": [
            "[[1. 0. 1. ... 0. 0. 0.]\n",
            " [1. 0. 0. ... 0. 0. 0.]\n",
            " [1. 0. 1. ... 0. 0. 0.]\n",
            " ...\n",
            " [1. 0. 0. ... 0. 0. 0.]\n",
            " [1. 0. 0. ... 0. 0. 0.]\n",
            " [1. 0. 1. ... 0. 0. 0.]]\n"
          ],
          "name": "stdout"
        }
      ]
    },
    {
      "cell_type": "code",
      "metadata": {
        "colab": {
          "base_uri": "https://localhost:8080/"
        },
        "id": "uPBAyreB-Y0V",
        "outputId": "8d5760ca-fdf5-44a4-fe5e-cc4d944c557d"
      },
      "source": [
        "print(df_X_oe.shape)"
      ],
      "execution_count": null,
      "outputs": [
        {
          "output_type": "stream",
          "text": [
            "(71606, 6825)\n"
          ],
          "name": "stdout"
        }
      ]
    },
    {
      "cell_type": "code",
      "metadata": {
        "id": "r2oh53hSo9uK"
      },
      "source": [
        "# values1 = X_train.values\n",
        "# scaler = MinMaxScaler(feature_range=(0, 1))\n",
        "# X_Train_scaled = scaler.fit_transform(values1)\n",
        "# # frame as supervised learning\n",
        "# X_train = series_to_supervised(X_Train_scaled, 1, 5)\n",
        "# print(X_train)\n",
        "\n",
        "# df_X_seven = series_to_supervised(df_X_oe, 1, 5 )\n"
      ],
      "execution_count": null,
      "outputs": []
    },
    {
      "cell_type": "code",
      "metadata": {
        "colab": {
          "base_uri": "https://localhost:8080/"
        },
        "id": "T6QvhLLMkwCu",
        "outputId": "63e1079d-76ed-44e2-90b2-7a47754692f0"
      },
      "source": [
        "# df_X_seven = df_X_seven.fillna(0)\n",
        "print(df_X_oe)"
      ],
      "execution_count": null,
      "outputs": [
        {
          "output_type": "stream",
          "text": [
            "[[1. 0. 1. ... 0. 0. 0.]\n",
            " [1. 0. 0. ... 0. 0. 0.]\n",
            " [1. 0. 1. ... 0. 0. 0.]\n",
            " ...\n",
            " [1. 0. 0. ... 0. 0. 0.]\n",
            " [1. 0. 0. ... 0. 0. 0.]\n",
            " [1. 0. 1. ... 0. 0. 0.]]\n"
          ],
          "name": "stdout"
        }
      ]
    },
    {
      "cell_type": "code",
      "metadata": {
        "colab": {
          "base_uri": "https://localhost:8080/"
        },
        "id": "807dzAvZppIg",
        "outputId": "0ace2f57-c3ff-41b7-bc3f-cf3a30036669"
      },
      "source": [
        "df_Y_oe = oe_labels.fit_transform(df_Y_le)\n",
        "print(df_Y_oe)"
      ],
      "execution_count": null,
      "outputs": [
        {
          "output_type": "stream",
          "text": [
            "[[1. 0. 0. 0.]\n",
            " [1. 0. 0. 0.]\n",
            " [1. 0. 0. 0.]\n",
            " ...\n",
            " [1. 0. 0. 0.]\n",
            " [1. 0. 0. 0.]\n",
            " [1. 0. 0. 0.]]\n"
          ],
          "name": "stdout"
        }
      ]
    },
    {
      "cell_type": "code",
      "metadata": {
        "id": "8B7ricsFTm8l"
      },
      "source": [
        "# df_X_seven.to_csv('y_train.csv')"
      ],
      "execution_count": null,
      "outputs": []
    },
    {
      "cell_type": "code",
      "metadata": {
        "id": "O83hDoKZR0M3"
      },
      "source": [
        "# Y_train = oe_labels.fit_transform(Y_train)\n",
        "\n",
        "# print(Y_train)"
      ],
      "execution_count": null,
      "outputs": []
    },
    {
      "cell_type": "code",
      "metadata": {
        "id": "reHNcsssV538"
      },
      "source": [
        "# Y_train.shape"
      ],
      "execution_count": null,
      "outputs": []
    },
    {
      "cell_type": "code",
      "metadata": {
        "id": "fXQL3WxoMn_q"
      },
      "source": [
        "# values2 = Y_train.values\n",
        "# scaler = MinMaxScaler(feature_range=(0, 1))\n",
        "# Y_Train_scaled = scaler.fit_transform(values2)\n",
        "# # frame as supervised learning\n",
        "# # reframed = series_to_supervised(scaled, 1, 1)\n",
        "# print(Y_Train_scaled)"
      ],
      "execution_count": null,
      "outputs": []
    },
    {
      "cell_type": "code",
      "metadata": {
        "id": "FBAPl0SwI7RQ"
      },
      "source": [
        "# X_test = X_test.apply(le.fit_transform)\n",
        "# X_test.head(5)"
      ],
      "execution_count": null,
      "outputs": []
    },
    {
      "cell_type": "code",
      "metadata": {
        "id": "bycBf-Oa9S33"
      },
      "source": [
        "# X_test = oe_labels.fit_transform(X_test)"
      ],
      "execution_count": null,
      "outputs": []
    },
    {
      "cell_type": "code",
      "metadata": {
        "id": "0k_G1JHaMyDc"
      },
      "source": [
        "# values3 = X_test.values\n",
        "# scaler = MinMaxScaler(feature_range=(0, 1))\n",
        "# X_Test_scaled = scaler.fit_transform(values3)\n",
        "# # frame as supervised learning\n",
        "# X_test = series_to_supervised(X_Test_scaled, 1, 5)\n",
        "# print(X_test)"
      ],
      "execution_count": null,
      "outputs": []
    },
    {
      "cell_type": "code",
      "metadata": {
        "id": "tIFp59_2VKEu"
      },
      "source": [
        "# X_test = np.array(columnTransformer.fit_transform(X_test), dtype = np.str)\n",
        "\n",
        "# print(X_test)"
      ],
      "execution_count": null,
      "outputs": []
    },
    {
      "cell_type": "code",
      "metadata": {
        "id": "Rj_3zk0nVwFj"
      },
      "source": [
        "# X_test.shape"
      ],
      "execution_count": null,
      "outputs": []
    },
    {
      "cell_type": "code",
      "metadata": {
        "id": "K5-MCd8MJyGT"
      },
      "source": [
        "# Y_test = Y_test.apply(le.fit_transform)\n",
        "# Y_test.head(5)"
      ],
      "execution_count": null,
      "outputs": []
    },
    {
      "cell_type": "code",
      "metadata": {
        "id": "nFw-hy0PVVM_"
      },
      "source": [
        "# Y_test = oe_labels.fit_transform(Y_test)\n",
        "\n",
        "# print(Y_test)"
      ],
      "execution_count": null,
      "outputs": []
    },
    {
      "cell_type": "code",
      "metadata": {
        "id": "JEePIGBAJ7hq"
      },
      "source": [
        "# values4 = Y_test.values\n",
        "# scaler = MinMaxScaler(feature_range=(0, 1))\n",
        "# Y_test = scaler.fit_transform(values4)\n",
        "# # frame as supervised learning\n",
        "# # reframed = series_to_supervised(scaled, 1, 1)\n",
        "# print(Y_test)"
      ],
      "execution_count": null,
      "outputs": []
    },
    {
      "cell_type": "markdown",
      "metadata": {
        "id": "S7Wg1JQ-854f"
      },
      "source": [
        "##Split Dataset into Training and Testing Subsets"
      ]
    },
    {
      "cell_type": "code",
      "metadata": {
        "id": "8oDVDKNyqLEH"
      },
      "source": [
        "df_train_x = df_X_oe[:59464,:]\n",
        "df_testval_x = df_X_oe[59464:,:]\n",
        "df_train_y = df_Y_oe[:59464,:]\n",
        "df_testval_y = df_Y_oe[59464:,:]\n",
        "# print(df_train_x)\n",
        "# print(df_train_y)"
      ],
      "execution_count": null,
      "outputs": []
    },
    {
      "cell_type": "code",
      "metadata": {
        "id": "po2agrWXkIgR"
      },
      "source": [
        "df_val_x = df_testval_x[:10909,:]\n",
        "df_test_x = df_testval_x[10909:,:]\n",
        "df_val_y = df_testval_y[:10909,:]\n",
        "df_test_y = df_testval_y[10909:,:]"
      ],
      "execution_count": null,
      "outputs": []
    },
    {
      "cell_type": "code",
      "metadata": {
        "colab": {
          "base_uri": "https://localhost:8080/"
        },
        "id": "gmF9kZrZfZ2B",
        "outputId": "4c269d0b-1560-4a22-9544-87e6f9fd1033"
      },
      "source": [
        "print(df_test_y.shape)"
      ],
      "execution_count": null,
      "outputs": [
        {
          "output_type": "stream",
          "text": [
            "(1233, 4)\n"
          ],
          "name": "stdout"
        }
      ]
    },
    {
      "cell_type": "code",
      "metadata": {
        "colab": {
          "base_uri": "https://localhost:8080/"
        },
        "id": "um5-es9ilEQ7",
        "outputId": "dd7efa02-4556-4a91-fabf-a89611d018a8"
      },
      "source": [
        "print(df_val_x.shape)"
      ],
      "execution_count": null,
      "outputs": [
        {
          "output_type": "stream",
          "text": [
            "(10909, 6825)\n"
          ],
          "name": "stdout"
        }
      ]
    },
    {
      "cell_type": "code",
      "metadata": {
        "id": "YDT_hxw2lD5W"
      },
      "source": [
        ""
      ],
      "execution_count": null,
      "outputs": []
    },
    {
      "cell_type": "code",
      "metadata": {
        "id": "otoSj4nU9uQ8"
      },
      "source": [
        "# df_train_Y_forsampling = np.argmax(df_train_y, axis=1)\n",
        "# print(df_train_Y_forsampling)\n"
      ],
      "execution_count": null,
      "outputs": []
    },
    {
      "cell_type": "code",
      "metadata": {
        "id": "fmLt_ZK--VPC"
      },
      "source": [
        "# from collections import Counter\n",
        "\n",
        "# print(Counter(df_train_Y_forsampling))\n",
        "# print(df_train_Y_forsampling.shape)"
      ],
      "execution_count": null,
      "outputs": []
    },
    {
      "cell_type": "markdown",
      "metadata": {
        "id": "a-KHN6FZ9Bd7"
      },
      "source": [
        "## Under Sampling"
      ]
    },
    {
      "cell_type": "code",
      "metadata": {
        "id": "AsB1ocbmv2o8"
      },
      "source": [
        "# pip install imblearn"
      ],
      "execution_count": null,
      "outputs": []
    },
    {
      "cell_type": "code",
      "metadata": {
        "id": "NopPd4xvvwXX"
      },
      "source": [
        "# from imblearn.under_sampling import RandomUnderSampler"
      ],
      "execution_count": null,
      "outputs": []
    },
    {
      "cell_type": "code",
      "metadata": {
        "id": "mBMTT9_LvpIq"
      },
      "source": [
        "# undersample = RandomUnderSampler(sampling_strategy='majority')\n",
        "# X_under, Y_under = undersample.fit_resample(df_train_x, df_train_Y_forsampling)\n",
        "# print(X_under.shape)\n",
        "# print(Y_under.shape)\n",
        "# X_under_1, Y_under_1 = undersample.fit_resample(X_under, Y_under)\n",
        "# print(X_under_1.shape)\n",
        "# print(Y_under_1.shape)\n",
        "# X_under_2, Y_under_2 = undersample.fit_resample(X_under_1, Y_under_1)\n",
        "# print(X_under_2.shape)\n",
        "# print(Y_under_2.shape)"
      ],
      "execution_count": null,
      "outputs": []
    },
    {
      "cell_type": "code",
      "metadata": {
        "id": "V4Gi8V2w_g3j"
      },
      "source": [
        "# print(Counter(Y_under_2))"
      ],
      "execution_count": null,
      "outputs": []
    },
    {
      "cell_type": "code",
      "metadata": {
        "id": "h9uaT8jL_WjT"
      },
      "source": [
        "# Y_under_2 = Y_under_2.reshape(-1, 1)"
      ],
      "execution_count": null,
      "outputs": []
    },
    {
      "cell_type": "code",
      "metadata": {
        "id": "JSaMvH8p9GCq"
      },
      "source": [
        "# Y_under_2 = oe_labels.fit_transform(Y_under_2)"
      ],
      "execution_count": null,
      "outputs": []
    },
    {
      "cell_type": "markdown",
      "metadata": {
        "id": "-pdRMJBiCH5i"
      },
      "source": [
        "##Over Sampling"
      ]
    },
    {
      "cell_type": "code",
      "metadata": {
        "id": "FBbBEwCICGbV"
      },
      "source": [
        "# from imblearn.over_sampling import RandomOverSampler"
      ],
      "execution_count": null,
      "outputs": []
    },
    {
      "cell_type": "code",
      "metadata": {
        "id": "ATIJQ15yCSFU"
      },
      "source": [
        "# oversample = RandomOverSampler(sampling_strategy='minority')\n",
        "# X_over, Y_over = oversample.fit_resample(df_train_x, df_train_Y_forsampling)\n",
        "# print(X_over.shape)\n",
        "# print(Y_over.shape)\n"
      ],
      "execution_count": null,
      "outputs": []
    },
    {
      "cell_type": "code",
      "metadata": {
        "id": "GhQh1_CLuNqf"
      },
      "source": [
        "# X_over_1, Y_over_1 = oversample.fit_resample(X_over, Y_over)\n",
        "# print(X_over_1.shape)\n",
        "# print(Y_over_1.shape)\n",
        "# X_over_2, Y_over_2 = oversample.fit_resample(X_over_1, Y_over_1)\n",
        "# print(X_over_2.shape)\n",
        "# print(Y_over_2.shape)"
      ],
      "execution_count": null,
      "outputs": []
    },
    {
      "cell_type": "code",
      "metadata": {
        "colab": {
          "base_uri": "https://localhost:8080/"
        },
        "id": "OJgmspLAlLaQ",
        "outputId": "fd88a1e3-2787-44d2-d7fa-373e4e6cf258"
      },
      "source": [
        "# reshape input to be 3D [samples, timesteps, features]\n",
        "df_train_x = df_train_x.reshape((df_train_x.shape[0], 1, 6825))\n",
        "df_test_x = df_test_x.reshape((df_test_x.shape[0], 1, 6825))\n",
        "df_val_x = df_val_x.reshape((df_val_x.shape[0], 1, 6825))\n",
        "print(df_train_x.shape, df_train_y.shape, df_test_x.shape, df_test_y.shape)"
      ],
      "execution_count": null,
      "outputs": [
        {
          "output_type": "stream",
          "text": [
            "(59464, 1, 6825) (59464, 4) (1233, 1, 6825) (1233, 4)\n"
          ],
          "name": "stdout"
        }
      ]
    },
    {
      "cell_type": "code",
      "metadata": {
        "id": "NiGds1IDVu2a"
      },
      "source": [
        "from keras.models import Sequential\n",
        "from keras.layers import Dense\n",
        "from keras.layers import LSTM\n",
        "from keras.layers import Dropout\n",
        "import matplotlib.pyplot as plt\n",
        "from tensorflow.keras import optimizers\n",
        "from keras.layers import Dropout"
      ],
      "execution_count": null,
      "outputs": []
    },
    {
      "cell_type": "code",
      "metadata": {
        "colab": {
          "base_uri": "https://localhost:8080/"
        },
        "id": "LuReD21-V1hj",
        "outputId": "7a1d0897-d000-435d-9786-64a51e378992"
      },
      "source": [
        "model = Sequential()\n",
        "model.add(LSTM(128, input_shape=(df_train_x.shape[1], df_train_x.shape[2])))\n",
        "model.add(Dropout(0.2))\n",
        "model.add(Dense(100))\n",
        "model.add(Dropout(0.2))\n",
        "model.add(Dense(50))\n",
        "model.add(Dropout(0.2))\n",
        "model.add(Dense(4,activation='softmax'))\n",
        "adam = optimizers.Adam(lr=0.001, amsgrad=False)\n",
        "model.compile(loss='categorical_crossentropy', optimizer='adam', metrics=['accuracy'])\n",
        "\n",
        "# fit network\n",
        "# history = model.fit(X_train, Y_train, epochs=1, batch_size=72, validation_data=(X_test, Y_test), verbose=2, shuffle=False)\n",
        "# # plot history\n",
        "# pyplot.plot(history.history['loss'], label='train')\n",
        "# pyplot.plot(history.history['val_loss'], label='test')\n",
        "# pyplot.legend()\n",
        "# pyplot.show()\n",
        "\n",
        "print(model.summary())"
      ],
      "execution_count": null,
      "outputs": [
        {
          "output_type": "stream",
          "text": [
            "Model: \"sequential_2\"\n",
            "_________________________________________________________________\n",
            "Layer (type)                 Output Shape              Param #   \n",
            "=================================================================\n",
            "lstm_1 (LSTM)                (None, 128)               3560448   \n",
            "_________________________________________________________________\n",
            "dropout_3 (Dropout)          (None, 128)               0         \n",
            "_________________________________________________________________\n",
            "dense_3 (Dense)              (None, 100)               12900     \n",
            "_________________________________________________________________\n",
            "dropout_4 (Dropout)          (None, 100)               0         \n",
            "_________________________________________________________________\n",
            "dense_4 (Dense)              (None, 50)                5050      \n",
            "_________________________________________________________________\n",
            "dropout_5 (Dropout)          (None, 50)                0         \n",
            "_________________________________________________________________\n",
            "dense_5 (Dense)              (None, 4)                 204       \n",
            "=================================================================\n",
            "Total params: 3,578,602\n",
            "Trainable params: 3,578,602\n",
            "Non-trainable params: 0\n",
            "_________________________________________________________________\n",
            "None\n"
          ],
          "name": "stdout"
        }
      ]
    },
    {
      "cell_type": "code",
      "metadata": {
        "colab": {
          "base_uri": "https://localhost:8080/",
          "height": 865
        },
        "id": "x5mvNkNhww-W",
        "outputId": "bbbd3c7f-6418-4539-f675-a9a449efc281"
      },
      "source": [
        "from keras.utils import plot_model\n",
        "plot_model(model, to_file='model.png', show_shapes=True,show_layer_names=True,)"
      ],
      "execution_count": null,
      "outputs": [
        {
          "output_type": "execute_result",
          "data": {
            "image/png": "[encoded data removed]",
            "text/plain": [
              "<IPython.core.display.Image object>"
            ]
          },
          "metadata": {
            "tags": []
          },
          "execution_count": 61
        }
      ]
    },
    {
      "cell_type": "code",
      "metadata": {
        "colab": {
          "base_uri": "https://localhost:8080/"
        },
        "id": "K6c-sQZlWHep",
        "outputId": "7acde300-c139-4404-f74b-683909f5950e"
      },
      "source": [
        "history =model.fit(df_train_x, df_train_y, validation_data=(df_val_x, df_val_y), epochs=50, batch_size=32, verbose= 1)\n",
        "\n",
        "# Final evaluation of the model\n",
        "# scores = model.evaluate(df_test_x,df_test_y, verbose=1)\n",
        "# print('Test loss:', scores)\n",
        "# print(\"Accuracy: %.2f%%\" % (scores[1]*100))"
      ],
      "execution_count": null,
      "outputs": [
        {
          "output_type": "stream",
          "text": [
            "Epoch 1/50\n",
            "1859/1859 [==============================] - 59s 31ms/step - loss: 0.3126 - accuracy: 0.9177 - val_loss: 0.4371 - val_accuracy: 0.8982\n",
            "Epoch 2/50\n",
            "1859/1859 [==============================] - 57s 31ms/step - loss: 0.2581 - accuracy: 0.9269 - val_loss: 0.4286 - val_accuracy: 0.9000\n",
            "Epoch 3/50\n",
            "1859/1859 [==============================] - 57s 31ms/step - loss: 0.2400 - accuracy: 0.9307 - val_loss: 0.4291 - val_accuracy: 0.9009\n",
            "Epoch 4/50\n",
            "1859/1859 [==============================] - 57s 30ms/step - loss: 0.2375 - accuracy: 0.9299 - val_loss: 0.4507 - val_accuracy: 0.8998\n",
            "Epoch 5/50\n",
            "1859/1859 [==============================] - 57s 31ms/step - loss: 0.2372 - accuracy: 0.9296 - val_loss: 0.4461 - val_accuracy: 0.8999\n",
            "Epoch 6/50\n",
            "1859/1859 [==============================] - 57s 31ms/step - loss: 0.2329 - accuracy: 0.9311 - val_loss: 0.4544 - val_accuracy: 0.8982\n",
            "Epoch 7/50\n",
            "1859/1859 [==============================] - 59s 32ms/step - loss: 0.2267 - accuracy: 0.9312 - val_loss: 0.4692 - val_accuracy: 0.8982\n",
            "Epoch 8/50\n",
            "1859/1859 [==============================] - 57s 31ms/step - loss: 0.2276 - accuracy: 0.9299 - val_loss: 0.4886 - val_accuracy: 0.8993\n",
            "Epoch 9/50\n",
            "1859/1859 [==============================] - 57s 31ms/step - loss: 0.2277 - accuracy: 0.9304 - val_loss: 0.4593 - val_accuracy: 0.9001\n",
            "Epoch 10/50\n",
            "1859/1859 [==============================] - 57s 31ms/step - loss: 0.2240 - accuracy: 0.9306 - val_loss: 0.4846 - val_accuracy: 0.9003\n",
            "Epoch 11/50\n",
            "1859/1859 [==============================] - 57s 31ms/step - loss: 0.2224 - accuracy: 0.9306 - val_loss: 0.5070 - val_accuracy: 0.8992\n",
            "Epoch 12/50\n",
            "1859/1859 [==============================] - 57s 31ms/step - loss: 0.2262 - accuracy: 0.9305 - val_loss: 0.5123 - val_accuracy: 0.8991\n",
            "Epoch 13/50\n",
            "1859/1859 [==============================] - 58s 31ms/step - loss: 0.2228 - accuracy: 0.9299 - val_loss: 0.4886 - val_accuracy: 0.9002\n",
            "Epoch 14/50\n",
            "1859/1859 [==============================] - 57s 31ms/step - loss: 0.2201 - accuracy: 0.9316 - val_loss: 0.5095 - val_accuracy: 0.9006\n",
            "Epoch 15/50\n",
            "1859/1859 [==============================] - 57s 31ms/step - loss: 0.2161 - accuracy: 0.9318 - val_loss: 0.5246 - val_accuracy: 0.9002\n",
            "Epoch 16/50\n",
            "1859/1859 [==============================] - 57s 31ms/step - loss: 0.2162 - accuracy: 0.9316 - val_loss: 0.5006 - val_accuracy: 0.8999\n",
            "Epoch 17/50\n",
            "1859/1859 [==============================] - 57s 31ms/step - loss: 0.2166 - accuracy: 0.9320 - val_loss: 0.5167 - val_accuracy: 0.9004\n",
            "Epoch 18/50\n",
            "1859/1859 [==============================] - 58s 31ms/step - loss: 0.2123 - accuracy: 0.9320 - val_loss: 0.5730 - val_accuracy: 0.9004\n",
            "Epoch 19/50\n",
            "1859/1859 [==============================] - 57s 31ms/step - loss: 0.2110 - accuracy: 0.9326 - val_loss: 0.5359 - val_accuracy: 0.8992\n",
            "Epoch 20/50\n",
            "1859/1859 [==============================] - 57s 31ms/step - loss: 0.2081 - accuracy: 0.9334 - val_loss: 0.5401 - val_accuracy: 0.9021\n",
            "Epoch 21/50\n",
            "1859/1859 [==============================] - 57s 31ms/step - loss: 0.2133 - accuracy: 0.9318 - val_loss: 0.5631 - val_accuracy: 0.8986\n",
            "Epoch 22/50\n",
            "1859/1859 [==============================] - 57s 31ms/step - loss: 0.2080 - accuracy: 0.9320 - val_loss: 0.5735 - val_accuracy: 0.9003\n",
            "Epoch 23/50\n",
            "1859/1859 [==============================] - 58s 31ms/step - loss: 0.2077 - accuracy: 0.9327 - val_loss: 0.5410 - val_accuracy: 0.8993\n",
            "Epoch 24/50\n",
            "1859/1859 [==============================] - 57s 31ms/step - loss: 0.2055 - accuracy: 0.9326 - val_loss: 0.5773 - val_accuracy: 0.8994\n",
            "Epoch 25/50\n",
            "1859/1859 [==============================] - 57s 31ms/step - loss: 0.2055 - accuracy: 0.9332 - val_loss: 0.5782 - val_accuracy: 0.8996\n",
            "Epoch 26/50\n",
            "1859/1859 [==============================] - 57s 31ms/step - loss: 0.2091 - accuracy: 0.9316 - val_loss: 0.5844 - val_accuracy: 0.8985\n",
            "Epoch 27/50\n",
            "1859/1859 [==============================] - 57s 31ms/step - loss: 0.2122 - accuracy: 0.9319 - val_loss: 0.6147 - val_accuracy: 0.9003\n",
            "Epoch 28/50\n",
            "1859/1859 [==============================] - 57s 31ms/step - loss: 0.2087 - accuracy: 0.9325 - val_loss: 0.5855 - val_accuracy: 0.8983\n",
            "Epoch 29/50\n",
            "1859/1859 [==============================] - 57s 31ms/step - loss: 0.2062 - accuracy: 0.9317 - val_loss: 0.5977 - val_accuracy: 0.8844\n",
            "Epoch 30/50\n",
            "1859/1859 [==============================] - 57s 31ms/step - loss: 0.1998 - accuracy: 0.9338 - val_loss: 0.6169 - val_accuracy: 0.9001\n",
            "Epoch 31/50\n",
            "1859/1859 [==============================] - 57s 31ms/step - loss: 0.2039 - accuracy: 0.9328 - val_loss: 0.6014 - val_accuracy: 0.8621\n",
            "Epoch 32/50\n",
            "1859/1859 [==============================] - 57s 31ms/step - loss: 0.1981 - accuracy: 0.9336 - val_loss: 0.6079 - val_accuracy: 0.8995\n",
            "Epoch 33/50\n",
            "1859/1859 [==============================] - 57s 31ms/step - loss: 0.1990 - accuracy: 0.9331 - val_loss: 0.5937 - val_accuracy: 0.8808\n",
            "Epoch 34/50\n",
            "1859/1859 [==============================] - 57s 31ms/step - loss: 0.1947 - accuracy: 0.9350 - val_loss: 0.5801 - val_accuracy: 0.8920\n",
            "Epoch 35/50\n",
            "1859/1859 [==============================] - 57s 31ms/step - loss: 0.2019 - accuracy: 0.9335 - val_loss: 0.6695 - val_accuracy: 0.8993\n",
            "Epoch 36/50\n",
            "1859/1859 [==============================] - 58s 31ms/step - loss: 0.1913 - accuracy: 0.9358 - val_loss: 0.5942 - val_accuracy: 0.8569\n",
            "Epoch 37/50\n",
            "1859/1859 [==============================] - 58s 31ms/step - loss: 0.2004 - accuracy: 0.9316 - val_loss: 0.5612 - val_accuracy: 0.8995\n",
            "Epoch 38/50\n",
            "1859/1859 [==============================] - 58s 31ms/step - loss: 0.2026 - accuracy: 0.9319 - val_loss: 0.5989 - val_accuracy: 0.8993\n",
            "Epoch 39/50\n",
            "1859/1859 [==============================] - 57s 31ms/step - loss: 0.1976 - accuracy: 0.9328 - val_loss: 0.6436 - val_accuracy: 0.9003\n",
            "Epoch 40/50\n",
            "1859/1859 [==============================] - 58s 31ms/step - loss: 0.1952 - accuracy: 0.9333 - val_loss: 0.5877 - val_accuracy: 0.8993\n",
            "Epoch 41/50\n",
            "1859/1859 [==============================] - 58s 31ms/step - loss: 0.1919 - accuracy: 0.9347 - val_loss: 0.6999 - val_accuracy: 0.8971\n",
            "Epoch 42/50\n",
            "1859/1859 [==============================] - 58s 31ms/step - loss: 0.1894 - accuracy: 0.9357 - val_loss: 0.6006 - val_accuracy: 0.8827\n",
            "Epoch 43/50\n",
            "1859/1859 [==============================] - 59s 32ms/step - loss: 0.1949 - accuracy: 0.9344 - val_loss: 0.6563 - val_accuracy: 0.8644\n",
            "Epoch 44/50\n",
            "1859/1859 [==============================] - 58s 31ms/step - loss: 0.1939 - accuracy: 0.9352 - val_loss: 0.6146 - val_accuracy: 0.8912\n",
            "Epoch 45/50\n",
            "1859/1859 [==============================] - 58s 31ms/step - loss: 0.1904 - accuracy: 0.9361 - val_loss: 0.6611 - val_accuracy: 0.8989\n",
            "Epoch 46/50\n",
            "1859/1859 [==============================] - 58s 31ms/step - loss: 0.1944 - accuracy: 0.9333 - val_loss: 0.6552 - val_accuracy: 0.8465\n",
            "Epoch 47/50\n",
            "1859/1859 [==============================] - 58s 31ms/step - loss: 0.1941 - accuracy: 0.9340 - val_loss: 0.5968 - val_accuracy: 0.8992\n",
            "Epoch 48/50\n",
            "1859/1859 [==============================] - 58s 31ms/step - loss: 0.1884 - accuracy: 0.9348 - val_loss: 0.6155 - val_accuracy: 0.8986\n",
            "Epoch 49/50\n",
            "1859/1859 [==============================] - 58s 31ms/step - loss: 0.1920 - accuracy: 0.9348 - val_loss: 0.5911 - val_accuracy: 0.8743\n",
            "Epoch 50/50\n",
            "1859/1859 [==============================] - 58s 31ms/step - loss: 0.1842 - accuracy: 0.9369 - val_loss: 0.6236 - val_accuracy: 0.8828\n"
          ],
          "name": "stdout"
        }
      ]
    },
    {
      "cell_type": "code",
      "metadata": {
        "colab": {
          "base_uri": "https://localhost:8080/",
          "height": 265
        },
        "id": "E9JyQWL8way6",
        "outputId": "719dc4f9-5949-43e2-90b5-3b90b2881794"
      },
      "source": [
        "plt.plot(history.history['loss'], label='train')\n",
        "plt.plot(history.history['val_loss'], label='validation')\n",
        "plt.legend()\n",
        "plt.show()"
      ],
      "execution_count": null,
      "outputs": [
        {
          "output_type": "display_data",
          "data": {
            "image/png": "[encoded data removed]",
            "text/plain": [
              "<Figure size 432x288 with 1 Axes>"
            ]
          },
          "metadata": {
            "tags": [],
            "needs_background": "light"
          }
        }
      ]
    },
    {
      "cell_type": "code",
      "metadata": {
        "id": "KNEntTdfh2tM"
      },
      "source": [
        "pred_values = model.predict(df_test_x)\n",
        "# print('pred_values: ', pred_values)\n",
        "print('pred_values: ', np.sum(pred_values))\n",
        "\n",
        "# print('true_values: ', y_test)\n",
        "print('true_values:', np.sum(df_test_y))"
      ],
      "execution_count": null,
      "outputs": []
    },
    {
      "cell_type": "code",
      "metadata": {
        "id": "hu4tMxAB6UIF"
      },
      "source": [
        "pred = np.argmax(pred_values, axis=1)\n",
        "df_test_y = np.argmax(df_test_y, axis=1)"
      ],
      "execution_count": null,
      "outputs": []
    },
    {
      "cell_type": "code",
      "metadata": {
        "id": "qPGc_sNKC11J"
      },
      "source": [
        "from sklearn.metrics import classification_report\n",
        "\n",
        "print(classification_report(df_test_y, pred))"
      ],
      "execution_count": null,
      "outputs": []
    },
    {
      "cell_type": "code",
      "metadata": {
        "id": "Gtxey-ik4VAA"
      },
      "source": [
        "pred_values = oe_labels.inverse_transform(pred_values)"
      ],
      "execution_count": null,
      "outputs": []
    },
    {
      "cell_type": "code",
      "metadata": {
        "id": "w_0jOB8F4qcu"
      },
      "source": [
        "print(pred_values)"
      ],
      "execution_count": null,
      "outputs": []
    },
    {
      "cell_type": "code",
      "metadata": {
        "id": "BsV_0dF59x89"
      },
      "source": [
        "print(df_test_y.shape)"
      ],
      "execution_count": null,
      "outputs": []
    },
    {
      "cell_type": "code",
      "metadata": {
        "id": "SYD1jlc55DCn"
      },
      "source": [
        "from sklearn.metrics import confusion_matrix, ConfusionMatrixDisplay"
      ],
      "execution_count": null,
      "outputs": []
    },
    {
      "cell_type": "code",
      "metadata": {
        "id": "Ln3BO1CA47aE"
      },
      "source": [
        "cm = confusion_matrix(df_test_y, pred)\n",
        "\n",
        "print(cm)"
      ],
      "execution_count": null,
      "outputs": []
    },
    {
      "cell_type": "code",
      "metadata": {
        "id": "0_TchOJOWB--"
      },
      "source": [
        "# plot history\n",
        "plt.plot(history.history['loss'], label='train loss')\n",
        "\n",
        "plt.legend()\n",
        "plt.show()"
      ],
      "execution_count": null,
      "outputs": []
    },
    {
      "cell_type": "code",
      "metadata": {
        "id": "03ATzuzj3_He"
      },
      "source": [
        "import matplotlib.pyplot as plt"
      ],
      "execution_count": null,
      "outputs": []
    }
  ]
}